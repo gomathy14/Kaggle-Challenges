{
 "cells": [
  {
   "cell_type": "code",
   "execution_count": 1,
   "id": "a7cb07f8",
   "metadata": {},
   "outputs": [],
   "source": [
    "import pandas as pd\n",
    "import numpy as np"
   ]
  },
  {
   "cell_type": "code",
   "execution_count": 2,
   "id": "1f536af8",
   "metadata": {},
   "outputs": [],
   "source": [
    "df=pd.read_csv('train.csv',encoding='latin1')"
   ]
  },
  {
   "cell_type": "code",
   "execution_count": 3,
   "id": "9a7a81ba",
   "metadata": {},
   "outputs": [
    {
     "data": {
      "text/html": [
       "<div>\n",
       "<style scoped>\n",
       "    .dataframe tbody tr th:only-of-type {\n",
       "        vertical-align: middle;\n",
       "    }\n",
       "\n",
       "    .dataframe tbody tr th {\n",
       "        vertical-align: top;\n",
       "    }\n",
       "\n",
       "    .dataframe thead th {\n",
       "        text-align: right;\n",
       "    }\n",
       "</style>\n",
       "<table border=\"1\" class=\"dataframe\">\n",
       "  <thead>\n",
       "    <tr style=\"text-align: right;\">\n",
       "      <th></th>\n",
       "      <th>PassengerId</th>\n",
       "      <th>HomePlanet</th>\n",
       "      <th>CryoSleep</th>\n",
       "      <th>Cabin</th>\n",
       "      <th>Destination</th>\n",
       "      <th>Age</th>\n",
       "      <th>VIP</th>\n",
       "      <th>RoomService</th>\n",
       "      <th>FoodCourt</th>\n",
       "      <th>ShoppingMall</th>\n",
       "      <th>Spa</th>\n",
       "      <th>VRDeck</th>\n",
       "      <th>Name</th>\n",
       "      <th>Transported</th>\n",
       "    </tr>\n",
       "  </thead>\n",
       "  <tbody>\n",
       "    <tr>\n",
       "      <th>0</th>\n",
       "      <td>0001_01</td>\n",
       "      <td>Europa</td>\n",
       "      <td>False</td>\n",
       "      <td>B/0/P</td>\n",
       "      <td>TRAPPIST-1e</td>\n",
       "      <td>39.0</td>\n",
       "      <td>False</td>\n",
       "      <td>0.0</td>\n",
       "      <td>0.0</td>\n",
       "      <td>0.0</td>\n",
       "      <td>0.0</td>\n",
       "      <td>0.0</td>\n",
       "      <td>Maham Ofracculy</td>\n",
       "      <td>False</td>\n",
       "    </tr>\n",
       "    <tr>\n",
       "      <th>1</th>\n",
       "      <td>0002_01</td>\n",
       "      <td>Earth</td>\n",
       "      <td>False</td>\n",
       "      <td>F/0/S</td>\n",
       "      <td>TRAPPIST-1e</td>\n",
       "      <td>24.0</td>\n",
       "      <td>False</td>\n",
       "      <td>109.0</td>\n",
       "      <td>9.0</td>\n",
       "      <td>25.0</td>\n",
       "      <td>549.0</td>\n",
       "      <td>44.0</td>\n",
       "      <td>Juanna Vines</td>\n",
       "      <td>True</td>\n",
       "    </tr>\n",
       "    <tr>\n",
       "      <th>2</th>\n",
       "      <td>0003_01</td>\n",
       "      <td>Europa</td>\n",
       "      <td>False</td>\n",
       "      <td>A/0/S</td>\n",
       "      <td>TRAPPIST-1e</td>\n",
       "      <td>58.0</td>\n",
       "      <td>True</td>\n",
       "      <td>43.0</td>\n",
       "      <td>3576.0</td>\n",
       "      <td>0.0</td>\n",
       "      <td>6715.0</td>\n",
       "      <td>49.0</td>\n",
       "      <td>Altark Susent</td>\n",
       "      <td>False</td>\n",
       "    </tr>\n",
       "    <tr>\n",
       "      <th>3</th>\n",
       "      <td>0003_02</td>\n",
       "      <td>Europa</td>\n",
       "      <td>False</td>\n",
       "      <td>A/0/S</td>\n",
       "      <td>TRAPPIST-1e</td>\n",
       "      <td>33.0</td>\n",
       "      <td>False</td>\n",
       "      <td>0.0</td>\n",
       "      <td>1283.0</td>\n",
       "      <td>371.0</td>\n",
       "      <td>3329.0</td>\n",
       "      <td>193.0</td>\n",
       "      <td>Solam Susent</td>\n",
       "      <td>False</td>\n",
       "    </tr>\n",
       "    <tr>\n",
       "      <th>4</th>\n",
       "      <td>0004_01</td>\n",
       "      <td>Earth</td>\n",
       "      <td>False</td>\n",
       "      <td>F/1/S</td>\n",
       "      <td>TRAPPIST-1e</td>\n",
       "      <td>16.0</td>\n",
       "      <td>False</td>\n",
       "      <td>303.0</td>\n",
       "      <td>70.0</td>\n",
       "      <td>151.0</td>\n",
       "      <td>565.0</td>\n",
       "      <td>2.0</td>\n",
       "      <td>Willy Santantines</td>\n",
       "      <td>True</td>\n",
       "    </tr>\n",
       "  </tbody>\n",
       "</table>\n",
       "</div>"
      ],
      "text/plain": [
       "  PassengerId HomePlanet CryoSleep  Cabin  Destination   Age    VIP  \\\n",
       "0     0001_01     Europa     False  B/0/P  TRAPPIST-1e  39.0  False   \n",
       "1     0002_01      Earth     False  F/0/S  TRAPPIST-1e  24.0  False   \n",
       "2     0003_01     Europa     False  A/0/S  TRAPPIST-1e  58.0   True   \n",
       "3     0003_02     Europa     False  A/0/S  TRAPPIST-1e  33.0  False   \n",
       "4     0004_01      Earth     False  F/1/S  TRAPPIST-1e  16.0  False   \n",
       "\n",
       "   RoomService  FoodCourt  ShoppingMall     Spa  VRDeck               Name  \\\n",
       "0          0.0        0.0           0.0     0.0     0.0    Maham Ofracculy   \n",
       "1        109.0        9.0          25.0   549.0    44.0       Juanna Vines   \n",
       "2         43.0     3576.0           0.0  6715.0    49.0      Altark Susent   \n",
       "3          0.0     1283.0         371.0  3329.0   193.0       Solam Susent   \n",
       "4        303.0       70.0         151.0   565.0     2.0  Willy Santantines   \n",
       "\n",
       "   Transported  \n",
       "0        False  \n",
       "1         True  \n",
       "2        False  \n",
       "3        False  \n",
       "4         True  "
      ]
     },
     "execution_count": 3,
     "metadata": {},
     "output_type": "execute_result"
    }
   ],
   "source": [
    "df.head(5)"
   ]
  },
  {
   "cell_type": "code",
   "execution_count": 4,
   "id": "6c9b616d",
   "metadata": {},
   "outputs": [
    {
     "data": {
      "text/plain": [
       "(8693, 14)"
      ]
     },
     "execution_count": 4,
     "metadata": {},
     "output_type": "execute_result"
    }
   ],
   "source": [
    "df.shape"
   ]
  },
  {
   "cell_type": "code",
   "execution_count": 5,
   "id": "04c8e9ec",
   "metadata": {},
   "outputs": [],
   "source": [
    "unwanted_cols=['PassengerId','Name','Transported']\n",
    "cols=[x for x in df.columns if x not in unwanted_cols]"
   ]
  },
  {
   "cell_type": "code",
   "execution_count": 6,
   "id": "ece5f617",
   "metadata": {},
   "outputs": [],
   "source": [
    "X=df[cols]\n",
    "Y=df['Transported']"
   ]
  },
  {
   "cell_type": "code",
   "execution_count": 7,
   "id": "f9da569c",
   "metadata": {},
   "outputs": [],
   "source": [
    "from sklearn.model_selection import train_test_split\n",
    "\n",
    "X_train,X_test,Y_train,Y_test=train_test_split(X, Y, test_size=0.3, random_state=42)"
   ]
  },
  {
   "cell_type": "code",
   "execution_count": 8,
   "id": "362e95fd",
   "metadata": {},
   "outputs": [],
   "source": [
    "df.loc[X_train.index,'Sample']='DEV'\n",
    "df.loc[X_test.index,'Sample']='VAL'"
   ]
  },
  {
   "cell_type": "code",
   "execution_count": 9,
   "id": "0871ed4f",
   "metadata": {},
   "outputs": [
    {
     "data": {
      "text/plain": [
       "DEV    6085\n",
       "VAL    2608\n",
       "Name: Sample, dtype: int64"
      ]
     },
     "execution_count": 9,
     "metadata": {},
     "output_type": "execute_result"
    }
   ],
   "source": [
    "df['Sample'].value_counts()"
   ]
  },
  {
   "cell_type": "code",
   "execution_count": 10,
   "id": "c2781a7d",
   "metadata": {},
   "outputs": [
    {
     "data": {
      "text/plain": [
       "HomePlanet      201\n",
       "CryoSleep       217\n",
       "Cabin           199\n",
       "Destination     182\n",
       "Age             179\n",
       "VIP             203\n",
       "RoomService     181\n",
       "FoodCourt       183\n",
       "ShoppingMall    208\n",
       "Spa             183\n",
       "VRDeck          188\n",
       "dtype: int64"
      ]
     },
     "execution_count": 10,
     "metadata": {},
     "output_type": "execute_result"
    }
   ],
   "source": [
    "df[cols].isnull().sum()"
   ]
  },
  {
   "cell_type": "code",
   "execution_count": 13,
   "id": "6a53abf9",
   "metadata": {},
   "outputs": [
    {
     "data": {
      "text/plain": [
       "<AxesSubplot:xlabel='HomePlanet,Transported'>"
      ]
     },
     "execution_count": 13,
     "metadata": {},
     "output_type": "execute_result"
    },
    {
     "data": {
      "image/png": "[encoded data removed]",
      "text/plain": [
       "<Figure size 640x480 with 1 Axes>"
      ]
     },
     "metadata": {},
     "output_type": "display_data"
    }
   ],
   "source": [
    "import matplotlib.pyplot as plt\n",
    "df_planet=df.groupby(['HomePlanet','Transported']).size()\n",
    "df_planet.plot(kind='bar')"
   ]
  },
  {
   "cell_type": "code",
   "execution_count": 14,
   "id": "cb874549",
   "metadata": {},
   "outputs": [
    {
     "data": {
      "text/plain": [
       "<AxesSubplot:xlabel='Destination,Transported'>"
      ]
     },
     "execution_count": 14,
     "metadata": {},
     "output_type": "execute_result"
    },
    {
     "data": {
      "image/png": "[encoded data removed]",
      "text/plain": [
       "<Figure size 640x480 with 1 Axes>"
      ]
     },
     "metadata": {},
     "output_type": "display_data"
    }
   ],
   "source": [
    "import matplotlib.pyplot as plt\n",
    "df_dest=df.groupby(['Destination','Transported']).size()\n",
    "df_dest.plot(kind='bar')"
   ]
  },
  {
   "cell_type": "code",
   "execution_count": 15,
   "id": "4a6b2ca2",
   "metadata": {},
   "outputs": [
    {
     "name": "stdout",
     "output_type": "stream",
     "text": [
      "<class 'pandas.core.frame.DataFrame'>\n",
      "RangeIndex: 8693 entries, 0 to 8692\n",
      "Data columns (total 15 columns):\n",
      " #   Column        Non-Null Count  Dtype  \n",
      "---  ------        --------------  -----  \n",
      " 0   PassengerId   8693 non-null   object \n",
      " 1   HomePlanet    8492 non-null   object \n",
      " 2   CryoSleep     8476 non-null   object \n",
      " 3   Cabin         8494 non-null   object \n",
      " 4   Destination   8511 non-null   object \n",
      " 5   Age           8514 non-null   float64\n",
      " 6   VIP           8490 non-null   object \n",
      " 7   RoomService   8512 non-null   float64\n",
      " 8   FoodCourt     8510 non-null   float64\n",
      " 9   ShoppingMall  8485 non-null   float64\n",
      " 10  Spa           8510 non-null   float64\n",
      " 11  VRDeck        8505 non-null   float64\n",
      " 12  Name          8493 non-null   object \n",
      " 13  Transported   8693 non-null   bool   \n",
      " 14  Sample        8693 non-null   object \n",
      "dtypes: bool(1), float64(6), object(8)\n",
      "memory usage: 959.4+ KB\n"
     ]
    }
   ],
   "source": [
    "df.info()"
   ]
  },
  {
   "cell_type": "code",
   "execution_count": 16,
   "id": "681a0068",
   "metadata": {},
   "outputs": [
    {
     "data": {
      "text/plain": [
       "Earth     4602\n",
       "Europa    2131\n",
       "Mars      1759\n",
       "Name: HomePlanet, dtype: int64"
      ]
     },
     "execution_count": 16,
     "metadata": {},
     "output_type": "execute_result"
    }
   ],
   "source": [
    "df['HomePlanet'].value_counts()"
   ]
  },
  {
   "cell_type": "code",
   "execution_count": 11,
   "id": "ab62ddee",
   "metadata": {},
   "outputs": [
    {
     "name": "stdout",
     "output_type": "stream",
     "text": [
      "0\n",
      "0\n",
      "0\n"
     ]
    },
    {
     "name": "stderr",
     "output_type": "stream",
     "text": [
      "C:\\Users\\gk7\\AppData\\Local\\Temp\\7\\ipykernel_29680\\3219146368.py:3: SettingWithCopyWarning: \n",
      "A value is trying to be set on a copy of a slice from a DataFrame\n",
      "\n",
      "See the caveats in the documentation: https://pandas.pydata.org/pandas-docs/stable/user_guide/indexing.html#returning-a-view-versus-a-copy\n",
      "  df[col][df[col].isnull()]='Unknown'\n",
      "C:\\Users\\gk7\\AppData\\Local\\Temp\\7\\ipykernel_29680\\3219146368.py:3: SettingWithCopyWarning: \n",
      "A value is trying to be set on a copy of a slice from a DataFrame\n",
      "\n",
      "See the caveats in the documentation: https://pandas.pydata.org/pandas-docs/stable/user_guide/indexing.html#returning-a-view-versus-a-copy\n",
      "  df[col][df[col].isnull()]='Unknown'\n",
      "C:\\Users\\gk7\\AppData\\Local\\Temp\\7\\ipykernel_29680\\3219146368.py:3: SettingWithCopyWarning: \n",
      "A value is trying to be set on a copy of a slice from a DataFrame\n",
      "\n",
      "See the caveats in the documentation: https://pandas.pydata.org/pandas-docs/stable/user_guide/indexing.html#returning-a-view-versus-a-copy\n",
      "  df[col][df[col].isnull()]='Unknown'\n"
     ]
    }
   ],
   "source": [
    "columns=['HomePlanet','Cabin','Destination']\n",
    "for col in columns:\n",
    "    df[col][df[col].isnull()]='Unknown'\n",
    "    df[col]=df[col].astype('category')\n",
    "    print(df[col].isnull().sum())"
   ]
  },
  {
   "cell_type": "code",
   "execution_count": 12,
   "id": "e938ce40",
   "metadata": {},
   "outputs": [
    {
     "name": "stdout",
     "output_type": "stream",
     "text": [
      "0    5656\n",
      "1    3037\n",
      "Name: CryoSleep, dtype: int64\n",
      "0    8494\n",
      "1     199\n",
      "Name: VIP, dtype: int64\n"
     ]
    }
   ],
   "source": [
    "columns=['CryoSleep','VIP']\n",
    "for col in columns:\n",
    "    df[col]=np.select([df[col]==True,df[col]==False],[1,0],default=0)\n",
    "    print(df[col].value_counts())"
   ]
  },
  {
   "cell_type": "code",
   "execution_count": 13,
   "id": "9c77fb04",
   "metadata": {},
   "outputs": [],
   "source": [
    "columns=['Age','Spa','RoomService','FoodCourt','ShoppingMall','VRDeck']"
   ]
  },
  {
   "cell_type": "code",
   "execution_count": 20,
   "id": "58e322ba",
   "metadata": {},
   "outputs": [
    {
     "name": "stdout",
     "output_type": "stream",
     "text": [
      "count    8514.000000\n",
      "mean       28.827930\n",
      "std        14.489021\n",
      "min         0.000000\n",
      "25%        19.000000\n",
      "50%        27.000000\n",
      "75%        38.000000\n",
      "max        79.000000\n",
      "Name: Age, dtype: float64\n",
      "count     8510.000000\n",
      "mean       311.138778\n",
      "std       1136.705535\n",
      "min          0.000000\n",
      "25%          0.000000\n",
      "50%          0.000000\n",
      "75%         59.000000\n",
      "max      22408.000000\n",
      "Name: Spa, dtype: float64\n",
      "count     8512.000000\n",
      "mean       224.687617\n",
      "std        666.717663\n",
      "min          0.000000\n",
      "25%          0.000000\n",
      "50%          0.000000\n",
      "75%         47.000000\n",
      "max      14327.000000\n",
      "Name: RoomService, dtype: float64\n",
      "count     8510.000000\n",
      "mean       458.077203\n",
      "std       1611.489240\n",
      "min          0.000000\n",
      "25%          0.000000\n",
      "50%          0.000000\n",
      "75%         76.000000\n",
      "max      29813.000000\n",
      "Name: FoodCourt, dtype: float64\n",
      "count     8485.000000\n",
      "mean       173.729169\n",
      "std        604.696458\n",
      "min          0.000000\n",
      "25%          0.000000\n",
      "50%          0.000000\n",
      "75%         27.000000\n",
      "max      23492.000000\n",
      "Name: ShoppingMall, dtype: float64\n",
      "count     8505.000000\n",
      "mean       304.854791\n",
      "std       1145.717189\n",
      "min          0.000000\n",
      "25%          0.000000\n",
      "50%          0.000000\n",
      "75%         46.000000\n",
      "max      24133.000000\n",
      "Name: VRDeck, dtype: float64\n"
     ]
    }
   ],
   "source": [
    "for col in columns:\n",
    "    print(df[col].describe())"
   ]
  },
  {
   "cell_type": "code",
   "execution_count": 35,
   "id": "d2ef672a",
   "metadata": {},
   "outputs": [
    {
     "data": {
      "text/plain": [
       "<AxesSubplot:ylabel='Frequency'>"
      ]
     },
     "execution_count": 35,
     "metadata": {},
     "output_type": "execute_result"
    },
    {
     "data": {
      "image/png": "[encoded data removed]",
      "text/plain": [
       "<Figure size 640x480 with 1 Axes>"
      ]
     },
     "metadata": {},
     "output_type": "display_data"
    }
   ],
   "source": [
    "df['Age'].value_counts().plot(kind='hist')"
   ]
  },
  {
   "cell_type": "code",
   "execution_count": 33,
   "id": "3e772972",
   "metadata": {},
   "outputs": [
    {
     "data": {
      "text/plain": [
       "<matplotlib.collections.PathCollection at 0x16ef1fd9190>"
      ]
     },
     "execution_count": 33,
     "metadata": {},
     "output_type": "execute_result"
    },
    {
     "data": {
      "image/png": "[encoded data removed]",
      "text/plain": [
       "<Figure size 640x480 with 1 Axes>"
      ]
     },
     "metadata": {},
     "output_type": "display_data"
    }
   ],
   "source": [
    "plt.scatter(x=df['Spa'],y=df['Transported'])\n",
    "# df['Spa'].value_counts().plot(kind='hist')"
   ]
  },
  {
   "cell_type": "code",
   "execution_count": 28,
   "id": "15040437",
   "metadata": {},
   "outputs": [
    {
     "data": {
      "text/plain": [
       "<AxesSubplot:ylabel='Frequency'>"
      ]
     },
     "execution_count": 28,
     "metadata": {},
     "output_type": "execute_result"
    },
    {
     "data": {
      "image/png": "[encoded data removed]",
      "text/plain": [
       "<Figure size 640x480 with 1 Axes>"
      ]
     },
     "metadata": {},
     "output_type": "display_data"
    }
   ],
   "source": [
    "df['RoomService'].value_counts().plot(kind='hist')"
   ]
  },
  {
   "cell_type": "code",
   "execution_count": 31,
   "id": "4dd75aae",
   "metadata": {},
   "outputs": [
    {
     "data": {
      "text/plain": [
       "<AxesSubplot:ylabel='Frequency'>"
      ]
     },
     "execution_count": 31,
     "metadata": {},
     "output_type": "execute_result"
    },
    {
     "data": {
      "image/png": "[encoded data removed]",
      "text/plain": [
       "<Figure size 640x480 with 1 Axes>"
      ]
     },
     "metadata": {},
     "output_type": "display_data"
    }
   ],
   "source": [
    "df['FoodCourt'].value_counts().plot(kind='hist')"
   ]
  },
  {
   "cell_type": "code",
   "execution_count": null,
   "id": "17d85e03",
   "metadata": {},
   "outputs": [],
   "source": [
    "df['ShoppingMall'].value_counts().plot(kind='hist')"
   ]
  },
  {
   "cell_type": "code",
   "execution_count": null,
   "id": "15c197d8",
   "metadata": {},
   "outputs": [],
   "source": [
    "df['VRDeck'].value_counts().plot(kind='hist')"
   ]
  },
  {
   "cell_type": "code",
   "execution_count": 14,
   "id": "b9fb2769",
   "metadata": {},
   "outputs": [],
   "source": [
    "df['Age'].fillna(df['Age'].mean(),inplace=True)"
   ]
  },
  {
   "cell_type": "code",
   "execution_count": 15,
   "id": "5915037b",
   "metadata": {},
   "outputs": [],
   "source": [
    "columns=['Spa','RoomService','FoodCourt','ShoppingMall','VRDeck']\n",
    "df.update(df[columns].fillna(0))"
   ]
  },
  {
   "cell_type": "code",
   "execution_count": 37,
   "id": "eedda1c5",
   "metadata": {},
   "outputs": [
    {
     "data": {
      "text/plain": [
       "PassengerId       0\n",
       "HomePlanet        0\n",
       "CryoSleep         0\n",
       "Cabin             0\n",
       "Destination       0\n",
       "Age               0\n",
       "VIP               0\n",
       "RoomService       0\n",
       "FoodCourt         0\n",
       "ShoppingMall      0\n",
       "Spa               0\n",
       "VRDeck            0\n",
       "Name            200\n",
       "Transported       0\n",
       "Sample            0\n",
       "dtype: int64"
      ]
     },
     "execution_count": 37,
     "metadata": {},
     "output_type": "execute_result"
    }
   ],
   "source": [
    "df.isnull().sum()"
   ]
  },
  {
   "cell_type": "code",
   "execution_count": 42,
   "id": "63a47915",
   "metadata": {},
   "outputs": [],
   "source": [
    "df['Age_0to50']=((df['Age']>=0) & (df['Age']<=50)).astype(int)\n",
    "df['Age_50to100']=((df['Age']>50) & (df['Age']<=100)).astype(int)\n",
    "df['Age_100to150']=((df['Age']>100) & (df['Age']<=150)).astype(int)\n",
    "df['Age_150to200']=((df['Age']>150) & (df['Age']<=200)).astype(int)\n",
    "df['Age_200to250']=((df['Age']>200) & (df['Age']<=250)).astype(int)\n",
    "df['Age_250to300']=((df['Age']>250) & (df['Age']<=300)).astype(int)\n",
    "df['Age_300to350']=((df['Age']>300) & (df['Age']<=350)).astype(int)"
   ]
  },
  {
   "cell_type": "code",
   "execution_count": 55,
   "id": "a7a0f143",
   "metadata": {},
   "outputs": [],
   "source": [
    "X_train=df[df['Sample']=='DEV']\n",
    "X_test=df[df['Sample']=='VAL']"
   ]
  },
  {
   "cell_type": "code",
   "execution_count": 424,
   "id": "9db5b29c",
   "metadata": {},
   "outputs": [],
   "source": [
    "x=['Age','RoomService','FoodCourt','ShoppingMall','Spa','VRDeck']\n",
    "for i in x:\n",
    "    df[i+'_S']=(df[i]-df[i].mean())/df[i].std()"
   ]
  },
  {
   "cell_type": "code",
   "execution_count": 616,
   "id": "deb71788",
   "metadata": {},
   "outputs": [],
   "source": [
    "cols=['CryoSleep','VRDeck_S','Spa_S','FoodCourt_S','HomePlanet','RoomService_S','Age']"
   ]
  },
  {
   "cell_type": "code",
   "execution_count": 64,
   "id": "e3e9380e",
   "metadata": {},
   "outputs": [],
   "source": [
    "df['Age_S']=(df['Age']-df['Age'].mean())/df['Age'].std()"
   ]
  },
  {
   "cell_type": "code",
   "execution_count": 56,
   "id": "6600154c",
   "metadata": {},
   "outputs": [],
   "source": [
    "X_train_c=X_train[cols]\n",
    "Y_train=X_train['Transported']\n",
    "X_test_c=X_test[cols]\n",
    "Y_test=X_test['Transported']"
   ]
  },
  {
   "cell_type": "code",
   "execution_count": 17,
   "id": "51586944",
   "metadata": {},
   "outputs": [],
   "source": [
    "def ks(y,pred):\n",
    "    ksd=pd.DataFrame()\n",
    "    ksd['target']=list(y) ### list of actual values\n",
    "    ksd['prob']=list(pred)\n",
    "    ksd['target0'] = 1 - ksd['target']\n",
    "    np.random.seed(1)\n",
    "    ksd['random'] = np.random.random(ksd.shape[0])\n",
    "    ksd.sort_values(by=['prob','random'],ascending=False,inplace=True)\n",
    "#print(ksd)\n",
    "    ksd['bucket'] = pd.qcut(ksd['prob'].rank(method='first'), 10,labels=['1','2','3','4','5','6','7','8','9','10'])\n",
    "    grouped = ksd.groupby(ksd['bucket'], as_index = False)\n",
    "    kstable = pd.DataFrame()\n",
    "    kstable['Total_Count'] = grouped.sum()['target'] + grouped.sum()['target0']\n",
    "    kstable['min_prob'] = grouped.min()['prob']\n",
    "    kstable['max_prob'] = grouped.max()['prob']\n",
    "    kstable['mean_prob'] = grouped.mean()['prob']\n",
    "    kstable['Target'] = grouped.sum()['target']\n",
    "    kstable['Target_rate'] = (kstable.Target /( grouped.sum()['target'] + grouped.sum()['target0']) ).apply('{0:.3%}'.format)\n",
    "    kstable['NonTarget'] = grouped.sum()['target0']\n",
    "#kstable['nocashout_rate'] = (kstable.nocashout / ksd['target0'].sum()).apply('{0:.3%}'.format)\n",
    "    kstable = kstable.sort_values(by=\"min_prob\", ascending=False).reset_index(drop = True)\n",
    "    kstable['cum_Target']=(kstable.Target / ksd['target'].sum()).cumsum()\n",
    "    kstable['cum_nonTarget']=(kstable.NonTarget / ksd['target0'].sum()).cumsum()\n",
    "    kstable['cum_pct_Total'] = [0.1,0.2,0.3,0.4,0.5,0.6,0.7,0.8,0.9,1.0]\n",
    "    kstable['KS'] = np.abs(np.round(kstable['cum_Target']-kstable['cum_nonTarget'], 4) * 100)\n",
    "\n",
    "#Formating\n",
    "    kstable['cum_Target']= kstable['cum_Target'].apply('{0:.2%}'.format)\n",
    "    kstable['cum_nonTarget']= kstable['cum_nonTarget'].apply('{0:.2%}'.format)\n",
    "    kstable['cum_pct_Total']= kstable['cum_pct_Total'].apply('{0:.2%}'.format)\n",
    "    kstable.index = range(1,11)\n",
    "    kstable = kstable.astype({ 'Total_Count':int , 'Target' : int , 'NonTarget' : int})\n",
    "    kstable.index.rename('Bin', inplace=True)\n",
    "    del kstable['NonTarget']\n",
    "\n",
    "    print( \"KS is \" + str(max(kstable['KS'])))\n",
    "    return(kstable)"
   ]
  },
  {
   "cell_type": "code",
   "execution_count": 20,
   "id": "57fb1252",
   "metadata": {},
   "outputs": [],
   "source": [
    "import lightgbm as lgbm"
   ]
  },
  {
   "cell_type": "code",
   "execution_count": 195,
   "id": "a61d57d4",
   "metadata": {},
   "outputs": [],
   "source": [
    "clf=lgbm.LGBMClassifier(importance_type='gain',random_state=50,max_depth=5,n_estimators=50,learning_rate=0.1,num_leaves=40,\n",
    "                       max_bin=255)"
   ]
  },
  {
   "cell_type": "code",
   "execution_count": 196,
   "id": "800d051b",
   "metadata": {},
   "outputs": [
    {
     "data": {
      "text/plain": [
       "LGBMClassifier(importance_type='gain', max_bin=255, max_depth=5,\n",
       "               n_estimators=50, num_leaves=40, random_state=50)"
      ]
     },
     "execution_count": 196,
     "metadata": {},
     "output_type": "execute_result"
    }
   ],
   "source": [
    "clf.fit(X_train_c,Y_train)"
   ]
  },
  {
   "cell_type": "code",
   "execution_count": 197,
   "id": "79cee89c",
   "metadata": {},
   "outputs": [],
   "source": [
    "y_pred=clf.predict_proba(X_train_c)[:,1]"
   ]
  },
  {
   "cell_type": "code",
   "execution_count": 198,
   "id": "95133112",
   "metadata": {},
   "outputs": [
    {
     "name": "stdout",
     "output_type": "stream",
     "text": [
      "KS is 64.47\n"
     ]
    },
    {
     "data": {
      "text/html": [
       "<div>\n",
       "<style scoped>\n",
       "    .dataframe tbody tr th:only-of-type {\n",
       "        vertical-align: middle;\n",
       "    }\n",
       "\n",
       "    .dataframe tbody tr th {\n",
       "        vertical-align: top;\n",
       "    }\n",
       "\n",
       "    .dataframe thead th {\n",
       "        text-align: right;\n",
       "    }\n",
       "</style>\n",
       "<table border=\"1\" class=\"dataframe\">\n",
       "  <thead>\n",
       "    <tr style=\"text-align: right;\">\n",
       "      <th></th>\n",
       "      <th>Total_Count</th>\n",
       "      <th>min_prob</th>\n",
       "      <th>max_prob</th>\n",
       "      <th>mean_prob</th>\n",
       "      <th>Target</th>\n",
       "      <th>Target_rate</th>\n",
       "      <th>cum_Target</th>\n",
       "      <th>cum_nonTarget</th>\n",
       "      <th>cum_pct_Total</th>\n",
       "      <th>KS</th>\n",
       "    </tr>\n",
       "    <tr>\n",
       "      <th>Bin</th>\n",
       "      <th></th>\n",
       "      <th></th>\n",
       "      <th></th>\n",
       "      <th></th>\n",
       "      <th></th>\n",
       "      <th></th>\n",
       "      <th></th>\n",
       "      <th></th>\n",
       "      <th></th>\n",
       "      <th></th>\n",
       "    </tr>\n",
       "  </thead>\n",
       "  <tbody>\n",
       "    <tr>\n",
       "      <th>1</th>\n",
       "      <td>609</td>\n",
       "      <td>0.962685</td>\n",
       "      <td>0.991325</td>\n",
       "      <td>0.982894</td>\n",
       "      <td>607</td>\n",
       "      <td>99.672%</td>\n",
       "      <td>19.84%</td>\n",
       "      <td>0.07%</td>\n",
       "      <td>10.00%</td>\n",
       "      <td>19.78</td>\n",
       "    </tr>\n",
       "    <tr>\n",
       "      <th>2</th>\n",
       "      <td>608</td>\n",
       "      <td>0.895334</td>\n",
       "      <td>0.962093</td>\n",
       "      <td>0.943698</td>\n",
       "      <td>598</td>\n",
       "      <td>98.355%</td>\n",
       "      <td>39.39%</td>\n",
       "      <td>0.40%</td>\n",
       "      <td>20.00%</td>\n",
       "      <td>39.00</td>\n",
       "    </tr>\n",
       "    <tr>\n",
       "      <th>3</th>\n",
       "      <td>609</td>\n",
       "      <td>0.693612</td>\n",
       "      <td>0.895334</td>\n",
       "      <td>0.782719</td>\n",
       "      <td>527</td>\n",
       "      <td>86.535%</td>\n",
       "      <td>56.62%</td>\n",
       "      <td>3.11%</td>\n",
       "      <td>30.00%</td>\n",
       "      <td>53.51</td>\n",
       "    </tr>\n",
       "    <tr>\n",
       "      <th>4</th>\n",
       "      <td>608</td>\n",
       "      <td>0.626954</td>\n",
       "      <td>0.693612</td>\n",
       "      <td>0.659938</td>\n",
       "      <td>418</td>\n",
       "      <td>68.750%</td>\n",
       "      <td>70.28%</td>\n",
       "      <td>9.39%</td>\n",
       "      <td>40.00%</td>\n",
       "      <td>60.90</td>\n",
       "    </tr>\n",
       "    <tr>\n",
       "      <th>5</th>\n",
       "      <td>608</td>\n",
       "      <td>0.548626</td>\n",
       "      <td>0.626954</td>\n",
       "      <td>0.592530</td>\n",
       "      <td>360</td>\n",
       "      <td>59.211%</td>\n",
       "      <td>82.05%</td>\n",
       "      <td>17.58%</td>\n",
       "      <td>50.00%</td>\n",
       "      <td>64.47</td>\n",
       "    </tr>\n",
       "    <tr>\n",
       "      <th>6</th>\n",
       "      <td>609</td>\n",
       "      <td>0.388803</td>\n",
       "      <td>0.548595</td>\n",
       "      <td>0.486583</td>\n",
       "      <td>255</td>\n",
       "      <td>41.872%</td>\n",
       "      <td>90.39%</td>\n",
       "      <td>29.28%</td>\n",
       "      <td>60.00%</td>\n",
       "      <td>61.11</td>\n",
       "    </tr>\n",
       "    <tr>\n",
       "      <th>7</th>\n",
       "      <td>608</td>\n",
       "      <td>0.182001</td>\n",
       "      <td>0.388251</td>\n",
       "      <td>0.257055</td>\n",
       "      <td>161</td>\n",
       "      <td>26.480%</td>\n",
       "      <td>95.65%</td>\n",
       "      <td>44.05%</td>\n",
       "      <td>70.00%</td>\n",
       "      <td>51.60</td>\n",
       "    </tr>\n",
       "    <tr>\n",
       "      <th>8</th>\n",
       "      <td>609</td>\n",
       "      <td>0.139793</td>\n",
       "      <td>0.181866</td>\n",
       "      <td>0.156773</td>\n",
       "      <td>99</td>\n",
       "      <td>16.256%</td>\n",
       "      <td>98.89%</td>\n",
       "      <td>60.91%</td>\n",
       "      <td>80.00%</td>\n",
       "      <td>37.98</td>\n",
       "    </tr>\n",
       "    <tr>\n",
       "      <th>9</th>\n",
       "      <td>608</td>\n",
       "      <td>0.091155</td>\n",
       "      <td>0.139436</td>\n",
       "      <td>0.121053</td>\n",
       "      <td>33</td>\n",
       "      <td>5.428%</td>\n",
       "      <td>99.97%</td>\n",
       "      <td>79.91%</td>\n",
       "      <td>90.00%</td>\n",
       "      <td>20.06</td>\n",
       "    </tr>\n",
       "    <tr>\n",
       "      <th>10</th>\n",
       "      <td>609</td>\n",
       "      <td>0.004062</td>\n",
       "      <td>0.091083</td>\n",
       "      <td>0.043855</td>\n",
       "      <td>1</td>\n",
       "      <td>0.164%</td>\n",
       "      <td>100.00%</td>\n",
       "      <td>100.00%</td>\n",
       "      <td>100.00%</td>\n",
       "      <td>0.00</td>\n",
       "    </tr>\n",
       "  </tbody>\n",
       "</table>\n",
       "</div>"
      ],
      "text/plain": [
       "     Total_Count  min_prob  max_prob  mean_prob  Target Target_rate  \\\n",
       "Bin                                                                   \n",
       "1            609  0.962685  0.991325   0.982894     607     99.672%   \n",
       "2            608  0.895334  0.962093   0.943698     598     98.355%   \n",
       "3            609  0.693612  0.895334   0.782719     527     86.535%   \n",
       "4            608  0.626954  0.693612   0.659938     418     68.750%   \n",
       "5            608  0.548626  0.626954   0.592530     360     59.211%   \n",
       "6            609  0.388803  0.548595   0.486583     255     41.872%   \n",
       "7            608  0.182001  0.388251   0.257055     161     26.480%   \n",
       "8            609  0.139793  0.181866   0.156773      99     16.256%   \n",
       "9            608  0.091155  0.139436   0.121053      33      5.428%   \n",
       "10           609  0.004062  0.091083   0.043855       1      0.164%   \n",
       "\n",
       "    cum_Target cum_nonTarget cum_pct_Total     KS  \n",
       "Bin                                                \n",
       "1       19.84%         0.07%        10.00%  19.78  \n",
       "2       39.39%         0.40%        20.00%  39.00  \n",
       "3       56.62%         3.11%        30.00%  53.51  \n",
       "4       70.28%         9.39%        40.00%  60.90  \n",
       "5       82.05%        17.58%        50.00%  64.47  \n",
       "6       90.39%        29.28%        60.00%  61.11  \n",
       "7       95.65%        44.05%        70.00%  51.60  \n",
       "8       98.89%        60.91%        80.00%  37.98  \n",
       "9       99.97%        79.91%        90.00%  20.06  \n",
       "10     100.00%       100.00%       100.00%   0.00  "
      ]
     },
     "execution_count": 198,
     "metadata": {},
     "output_type": "execute_result"
    }
   ],
   "source": [
    "ks(Y_train,y_pred)"
   ]
  },
  {
   "cell_type": "code",
   "execution_count": 199,
   "id": "76264888",
   "metadata": {},
   "outputs": [],
   "source": [
    "y_pred_test=clf.predict_proba(X_test_c)[:,1]"
   ]
  },
  {
   "cell_type": "code",
   "execution_count": 200,
   "id": "124d3ded",
   "metadata": {},
   "outputs": [
    {
     "name": "stdout",
     "output_type": "stream",
     "text": [
      "KS is 58.37\n"
     ]
    },
    {
     "data": {
      "text/html": [
       "<div>\n",
       "<style scoped>\n",
       "    .dataframe tbody tr th:only-of-type {\n",
       "        vertical-align: middle;\n",
       "    }\n",
       "\n",
       "    .dataframe tbody tr th {\n",
       "        vertical-align: top;\n",
       "    }\n",
       "\n",
       "    .dataframe thead th {\n",
       "        text-align: right;\n",
       "    }\n",
       "</style>\n",
       "<table border=\"1\" class=\"dataframe\">\n",
       "  <thead>\n",
       "    <tr style=\"text-align: right;\">\n",
       "      <th></th>\n",
       "      <th>Total_Count</th>\n",
       "      <th>min_prob</th>\n",
       "      <th>max_prob</th>\n",
       "      <th>mean_prob</th>\n",
       "      <th>Target</th>\n",
       "      <th>Target_rate</th>\n",
       "      <th>cum_Target</th>\n",
       "      <th>cum_nonTarget</th>\n",
       "      <th>cum_pct_Total</th>\n",
       "      <th>KS</th>\n",
       "    </tr>\n",
       "    <tr>\n",
       "      <th>Bin</th>\n",
       "      <th></th>\n",
       "      <th></th>\n",
       "      <th></th>\n",
       "      <th></th>\n",
       "      <th></th>\n",
       "      <th></th>\n",
       "      <th></th>\n",
       "      <th></th>\n",
       "      <th></th>\n",
       "      <th></th>\n",
       "    </tr>\n",
       "  </thead>\n",
       "  <tbody>\n",
       "    <tr>\n",
       "      <th>1</th>\n",
       "      <td>261</td>\n",
       "      <td>0.967433</td>\n",
       "      <td>0.990638</td>\n",
       "      <td>0.983785</td>\n",
       "      <td>259</td>\n",
       "      <td>99.234%</td>\n",
       "      <td>19.64%</td>\n",
       "      <td>0.16%</td>\n",
       "      <td>10.00%</td>\n",
       "      <td>19.48</td>\n",
       "    </tr>\n",
       "    <tr>\n",
       "      <th>2</th>\n",
       "      <td>261</td>\n",
       "      <td>0.900335</td>\n",
       "      <td>0.967036</td>\n",
       "      <td>0.946089</td>\n",
       "      <td>255</td>\n",
       "      <td>97.701%</td>\n",
       "      <td>38.97%</td>\n",
       "      <td>0.62%</td>\n",
       "      <td>20.00%</td>\n",
       "      <td>38.35</td>\n",
       "    </tr>\n",
       "    <tr>\n",
       "      <th>3</th>\n",
       "      <td>261</td>\n",
       "      <td>0.718823</td>\n",
       "      <td>0.898702</td>\n",
       "      <td>0.800109</td>\n",
       "      <td>198</td>\n",
       "      <td>75.862%</td>\n",
       "      <td>53.98%</td>\n",
       "      <td>5.51%</td>\n",
       "      <td>30.00%</td>\n",
       "      <td>48.47</td>\n",
       "    </tr>\n",
       "    <tr>\n",
       "      <th>4</th>\n",
       "      <td>260</td>\n",
       "      <td>0.633609</td>\n",
       "      <td>0.718192</td>\n",
       "      <td>0.671000</td>\n",
       "      <td>170</td>\n",
       "      <td>65.385%</td>\n",
       "      <td>66.87%</td>\n",
       "      <td>12.49%</td>\n",
       "      <td>40.00%</td>\n",
       "      <td>54.38</td>\n",
       "    </tr>\n",
       "    <tr>\n",
       "      <th>5</th>\n",
       "      <td>261</td>\n",
       "      <td>0.563208</td>\n",
       "      <td>0.633609</td>\n",
       "      <td>0.601061</td>\n",
       "      <td>158</td>\n",
       "      <td>60.536%</td>\n",
       "      <td>78.85%</td>\n",
       "      <td>20.48%</td>\n",
       "      <td>50.00%</td>\n",
       "      <td>58.37</td>\n",
       "    </tr>\n",
       "    <tr>\n",
       "      <th>6</th>\n",
       "      <td>261</td>\n",
       "      <td>0.439169</td>\n",
       "      <td>0.563208</td>\n",
       "      <td>0.507777</td>\n",
       "      <td>126</td>\n",
       "      <td>48.276%</td>\n",
       "      <td>88.40%</td>\n",
       "      <td>30.95%</td>\n",
       "      <td>60.00%</td>\n",
       "      <td>57.45</td>\n",
       "    </tr>\n",
       "    <tr>\n",
       "      <th>7</th>\n",
       "      <td>260</td>\n",
       "      <td>0.197198</td>\n",
       "      <td>0.437912</td>\n",
       "      <td>0.300074</td>\n",
       "      <td>64</td>\n",
       "      <td>24.615%</td>\n",
       "      <td>93.25%</td>\n",
       "      <td>46.16%</td>\n",
       "      <td>70.00%</td>\n",
       "      <td>47.09</td>\n",
       "    </tr>\n",
       "    <tr>\n",
       "      <th>8</th>\n",
       "      <td>261</td>\n",
       "      <td>0.143500</td>\n",
       "      <td>0.197184</td>\n",
       "      <td>0.164481</td>\n",
       "      <td>42</td>\n",
       "      <td>16.092%</td>\n",
       "      <td>96.44%</td>\n",
       "      <td>63.15%</td>\n",
       "      <td>80.00%</td>\n",
       "      <td>33.29</td>\n",
       "    </tr>\n",
       "    <tr>\n",
       "      <th>9</th>\n",
       "      <td>261</td>\n",
       "      <td>0.098882</td>\n",
       "      <td>0.143465</td>\n",
       "      <td>0.124288</td>\n",
       "      <td>34</td>\n",
       "      <td>13.027%</td>\n",
       "      <td>99.01%</td>\n",
       "      <td>80.76%</td>\n",
       "      <td>90.00%</td>\n",
       "      <td>18.25</td>\n",
       "    </tr>\n",
       "    <tr>\n",
       "      <th>10</th>\n",
       "      <td>261</td>\n",
       "      <td>0.005599</td>\n",
       "      <td>0.098213</td>\n",
       "      <td>0.048163</td>\n",
       "      <td>13</td>\n",
       "      <td>4.981%</td>\n",
       "      <td>100.00%</td>\n",
       "      <td>100.00%</td>\n",
       "      <td>100.00%</td>\n",
       "      <td>0.00</td>\n",
       "    </tr>\n",
       "  </tbody>\n",
       "</table>\n",
       "</div>"
      ],
      "text/plain": [
       "     Total_Count  min_prob  max_prob  mean_prob  Target Target_rate  \\\n",
       "Bin                                                                   \n",
       "1            261  0.967433  0.990638   0.983785     259     99.234%   \n",
       "2            261  0.900335  0.967036   0.946089     255     97.701%   \n",
       "3            261  0.718823  0.898702   0.800109     198     75.862%   \n",
       "4            260  0.633609  0.718192   0.671000     170     65.385%   \n",
       "5            261  0.563208  0.633609   0.601061     158     60.536%   \n",
       "6            261  0.439169  0.563208   0.507777     126     48.276%   \n",
       "7            260  0.197198  0.437912   0.300074      64     24.615%   \n",
       "8            261  0.143500  0.197184   0.164481      42     16.092%   \n",
       "9            261  0.098882  0.143465   0.124288      34     13.027%   \n",
       "10           261  0.005599  0.098213   0.048163      13      4.981%   \n",
       "\n",
       "    cum_Target cum_nonTarget cum_pct_Total     KS  \n",
       "Bin                                                \n",
       "1       19.64%         0.16%        10.00%  19.48  \n",
       "2       38.97%         0.62%        20.00%  38.35  \n",
       "3       53.98%         5.51%        30.00%  48.47  \n",
       "4       66.87%        12.49%        40.00%  54.38  \n",
       "5       78.85%        20.48%        50.00%  58.37  \n",
       "6       88.40%        30.95%        60.00%  57.45  \n",
       "7       93.25%        46.16%        70.00%  47.09  \n",
       "8       96.44%        63.15%        80.00%  33.29  \n",
       "9       99.01%        80.76%        90.00%  18.25  \n",
       "10     100.00%       100.00%       100.00%   0.00  "
      ]
     },
     "execution_count": 200,
     "metadata": {},
     "output_type": "execute_result"
    }
   ],
   "source": [
    "ks(Y_test,y_pred_test)"
   ]
  },
  {
   "cell_type": "code",
   "execution_count": 201,
   "id": "e1d2d409",
   "metadata": {},
   "outputs": [
    {
     "name": "stdout",
     "output_type": "stream",
     "text": [
      "0.8211996713229253\n"
     ]
    }
   ],
   "source": [
    "from sklearn.metrics import accuracy_score\n",
    "print(accuracy_score(Y_train,clf.predict(X_train_c) ))"
   ]
  },
  {
   "cell_type": "code",
   "execution_count": 202,
   "id": "5202f3b4",
   "metadata": {},
   "outputs": [
    {
     "name": "stdout",
     "output_type": "stream",
     "text": [
      "0.8009969325153374\n"
     ]
    }
   ],
   "source": [
    "from sklearn.metrics import accuracy_score\n",
    "print(accuracy_score(Y_test,clf.predict(X_test_c) ))"
   ]
  },
  {
   "cell_type": "code",
   "execution_count": 203,
   "id": "1b4a4955",
   "metadata": {},
   "outputs": [
    {
     "name": "stdout",
     "output_type": "stream",
     "text": [
      "              precision    recall  f1-score   support\n",
      "\n",
      "       False       0.85      0.78      0.81      3026\n",
      "        True       0.80      0.86      0.83      3059\n",
      "\n",
      "    accuracy                           0.82      6085\n",
      "   macro avg       0.82      0.82      0.82      6085\n",
      "weighted avg       0.82      0.82      0.82      6085\n",
      "\n"
     ]
    }
   ],
   "source": [
    "from sklearn.metrics import classification_report\n",
    "print(classification_report(Y_train, clf.predict(X_train_c)))"
   ]
  },
  {
   "cell_type": "code",
   "execution_count": 204,
   "id": "b0a2ce1c",
   "metadata": {},
   "outputs": [
    {
     "name": "stdout",
     "output_type": "stream",
     "text": [
      "              precision    recall  f1-score   support\n",
      "\n",
      "       False       0.83      0.74      0.79      1289\n",
      "        True       0.77      0.86      0.81      1319\n",
      "\n",
      "    accuracy                           0.80      2608\n",
      "   macro avg       0.80      0.80      0.80      2608\n",
      "weighted avg       0.80      0.80      0.80      2608\n",
      "\n"
     ]
    }
   ],
   "source": [
    "from sklearn.metrics import classification_report\n",
    "print(classification_report(Y_test, clf.predict(X_test_c)))"
   ]
  },
  {
   "cell_type": "code",
   "execution_count": 205,
   "id": "b4ba9802",
   "metadata": {},
   "outputs": [],
   "source": [
    "features=pd.DataFrame({'Feature':cols,'Importance':clf.feature_importances_}).sort_values(by=\"Importance\",ascending=False).reset_index(drop=True)"
   ]
  },
  {
   "cell_type": "code",
   "execution_count": 206,
   "id": "3927e316",
   "metadata": {},
   "outputs": [
    {
     "data": {
      "text/html": [
       "<div>\n",
       "<style scoped>\n",
       "    .dataframe tbody tr th:only-of-type {\n",
       "        vertical-align: middle;\n",
       "    }\n",
       "\n",
       "    .dataframe tbody tr th {\n",
       "        vertical-align: top;\n",
       "    }\n",
       "\n",
       "    .dataframe thead th {\n",
       "        text-align: right;\n",
       "    }\n",
       "</style>\n",
       "<table border=\"1\" class=\"dataframe\">\n",
       "  <thead>\n",
       "    <tr style=\"text-align: right;\">\n",
       "      <th></th>\n",
       "      <th>Feature</th>\n",
       "      <th>Importance</th>\n",
       "    </tr>\n",
       "  </thead>\n",
       "  <tbody>\n",
       "    <tr>\n",
       "      <th>0</th>\n",
       "      <td>CryoSleep</td>\n",
       "      <td>7254.218489</td>\n",
       "    </tr>\n",
       "    <tr>\n",
       "      <th>1</th>\n",
       "      <td>Spa</td>\n",
       "      <td>2305.706349</td>\n",
       "    </tr>\n",
       "    <tr>\n",
       "      <th>2</th>\n",
       "      <td>VRDeck</td>\n",
       "      <td>2211.874613</td>\n",
       "    </tr>\n",
       "    <tr>\n",
       "      <th>3</th>\n",
       "      <td>FoodCourt</td>\n",
       "      <td>1900.380532</td>\n",
       "    </tr>\n",
       "    <tr>\n",
       "      <th>4</th>\n",
       "      <td>RoomService</td>\n",
       "      <td>1602.955525</td>\n",
       "    </tr>\n",
       "    <tr>\n",
       "      <th>5</th>\n",
       "      <td>HomePlanet</td>\n",
       "      <td>1220.808073</td>\n",
       "    </tr>\n",
       "    <tr>\n",
       "      <th>6</th>\n",
       "      <td>Cabin_G</td>\n",
       "      <td>797.003410</td>\n",
       "    </tr>\n",
       "    <tr>\n",
       "      <th>7</th>\n",
       "      <td>Age</td>\n",
       "      <td>733.545428</td>\n",
       "    </tr>\n",
       "    <tr>\n",
       "      <th>8</th>\n",
       "      <td>ShoppingMall</td>\n",
       "      <td>615.200012</td>\n",
       "    </tr>\n",
       "    <tr>\n",
       "      <th>9</th>\n",
       "      <td>Cabin_E</td>\n",
       "      <td>599.168421</td>\n",
       "    </tr>\n",
       "    <tr>\n",
       "      <th>10</th>\n",
       "      <td>Cabin_C</td>\n",
       "      <td>153.621392</td>\n",
       "    </tr>\n",
       "    <tr>\n",
       "      <th>11</th>\n",
       "      <td>Cabin_F</td>\n",
       "      <td>141.647779</td>\n",
       "    </tr>\n",
       "    <tr>\n",
       "      <th>12</th>\n",
       "      <td>Destination</td>\n",
       "      <td>76.533160</td>\n",
       "    </tr>\n",
       "    <tr>\n",
       "      <th>13</th>\n",
       "      <td>Cabin_A</td>\n",
       "      <td>71.486103</td>\n",
       "    </tr>\n",
       "    <tr>\n",
       "      <th>14</th>\n",
       "      <td>Cabin_B</td>\n",
       "      <td>59.041061</td>\n",
       "    </tr>\n",
       "    <tr>\n",
       "      <th>15</th>\n",
       "      <td>VIP</td>\n",
       "      <td>8.782320</td>\n",
       "    </tr>\n",
       "    <tr>\n",
       "      <th>16</th>\n",
       "      <td>Cabin_D</td>\n",
       "      <td>2.990120</td>\n",
       "    </tr>\n",
       "  </tbody>\n",
       "</table>\n",
       "</div>"
      ],
      "text/plain": [
       "         Feature   Importance\n",
       "0      CryoSleep  7254.218489\n",
       "1            Spa  2305.706349\n",
       "2         VRDeck  2211.874613\n",
       "3      FoodCourt  1900.380532\n",
       "4    RoomService  1602.955525\n",
       "5     HomePlanet  1220.808073\n",
       "6        Cabin_G   797.003410\n",
       "7            Age   733.545428\n",
       "8   ShoppingMall   615.200012\n",
       "9        Cabin_E   599.168421\n",
       "10       Cabin_C   153.621392\n",
       "11       Cabin_F   141.647779\n",
       "12   Destination    76.533160\n",
       "13       Cabin_A    71.486103\n",
       "14       Cabin_B    59.041061\n",
       "15           VIP     8.782320\n",
       "16       Cabin_D     2.990120"
      ]
     },
     "execution_count": 206,
     "metadata": {},
     "output_type": "execute_result"
    }
   ],
   "source": [
    "features"
   ]
  },
  {
   "cell_type": "code",
   "execution_count": 207,
   "id": "6086e1e7",
   "metadata": {},
   "outputs": [],
   "source": [
    "df_test=pd.read_csv('test.csv',encoding='latin1')"
   ]
  },
  {
   "cell_type": "code",
   "execution_count": 208,
   "id": "3df8bbcb",
   "metadata": {},
   "outputs": [
    {
     "data": {
      "text/html": [
       "<div>\n",
       "<style scoped>\n",
       "    .dataframe tbody tr th:only-of-type {\n",
       "        vertical-align: middle;\n",
       "    }\n",
       "\n",
       "    .dataframe tbody tr th {\n",
       "        vertical-align: top;\n",
       "    }\n",
       "\n",
       "    .dataframe thead th {\n",
       "        text-align: right;\n",
       "    }\n",
       "</style>\n",
       "<table border=\"1\" class=\"dataframe\">\n",
       "  <thead>\n",
       "    <tr style=\"text-align: right;\">\n",
       "      <th></th>\n",
       "      <th>PassengerId</th>\n",
       "      <th>HomePlanet</th>\n",
       "      <th>CryoSleep</th>\n",
       "      <th>Cabin</th>\n",
       "      <th>Destination</th>\n",
       "      <th>Age</th>\n",
       "      <th>VIP</th>\n",
       "      <th>RoomService</th>\n",
       "      <th>FoodCourt</th>\n",
       "      <th>ShoppingMall</th>\n",
       "      <th>Spa</th>\n",
       "      <th>VRDeck</th>\n",
       "      <th>Name</th>\n",
       "    </tr>\n",
       "  </thead>\n",
       "  <tbody>\n",
       "    <tr>\n",
       "      <th>0</th>\n",
       "      <td>0013_01</td>\n",
       "      <td>Earth</td>\n",
       "      <td>True</td>\n",
       "      <td>G/3/S</td>\n",
       "      <td>TRAPPIST-1e</td>\n",
       "      <td>27.0</td>\n",
       "      <td>False</td>\n",
       "      <td>0.0</td>\n",
       "      <td>0.0</td>\n",
       "      <td>0.0</td>\n",
       "      <td>0.0</td>\n",
       "      <td>0.0</td>\n",
       "      <td>Nelly Carsoning</td>\n",
       "    </tr>\n",
       "    <tr>\n",
       "      <th>1</th>\n",
       "      <td>0018_01</td>\n",
       "      <td>Earth</td>\n",
       "      <td>False</td>\n",
       "      <td>F/4/S</td>\n",
       "      <td>TRAPPIST-1e</td>\n",
       "      <td>19.0</td>\n",
       "      <td>False</td>\n",
       "      <td>0.0</td>\n",
       "      <td>9.0</td>\n",
       "      <td>0.0</td>\n",
       "      <td>2823.0</td>\n",
       "      <td>0.0</td>\n",
       "      <td>Lerome Peckers</td>\n",
       "    </tr>\n",
       "    <tr>\n",
       "      <th>2</th>\n",
       "      <td>0019_01</td>\n",
       "      <td>Europa</td>\n",
       "      <td>True</td>\n",
       "      <td>C/0/S</td>\n",
       "      <td>55 Cancri e</td>\n",
       "      <td>31.0</td>\n",
       "      <td>False</td>\n",
       "      <td>0.0</td>\n",
       "      <td>0.0</td>\n",
       "      <td>0.0</td>\n",
       "      <td>0.0</td>\n",
       "      <td>0.0</td>\n",
       "      <td>Sabih Unhearfus</td>\n",
       "    </tr>\n",
       "    <tr>\n",
       "      <th>3</th>\n",
       "      <td>0021_01</td>\n",
       "      <td>Europa</td>\n",
       "      <td>False</td>\n",
       "      <td>C/1/S</td>\n",
       "      <td>TRAPPIST-1e</td>\n",
       "      <td>38.0</td>\n",
       "      <td>False</td>\n",
       "      <td>0.0</td>\n",
       "      <td>6652.0</td>\n",
       "      <td>0.0</td>\n",
       "      <td>181.0</td>\n",
       "      <td>585.0</td>\n",
       "      <td>Meratz Caltilter</td>\n",
       "    </tr>\n",
       "    <tr>\n",
       "      <th>4</th>\n",
       "      <td>0023_01</td>\n",
       "      <td>Earth</td>\n",
       "      <td>False</td>\n",
       "      <td>F/5/S</td>\n",
       "      <td>TRAPPIST-1e</td>\n",
       "      <td>20.0</td>\n",
       "      <td>False</td>\n",
       "      <td>10.0</td>\n",
       "      <td>0.0</td>\n",
       "      <td>635.0</td>\n",
       "      <td>0.0</td>\n",
       "      <td>0.0</td>\n",
       "      <td>Brence Harperez</td>\n",
       "    </tr>\n",
       "  </tbody>\n",
       "</table>\n",
       "</div>"
      ],
      "text/plain": [
       "  PassengerId HomePlanet CryoSleep  Cabin  Destination   Age    VIP  \\\n",
       "0     0013_01      Earth      True  G/3/S  TRAPPIST-1e  27.0  False   \n",
       "1     0018_01      Earth     False  F/4/S  TRAPPIST-1e  19.0  False   \n",
       "2     0019_01     Europa      True  C/0/S  55 Cancri e  31.0  False   \n",
       "3     0021_01     Europa     False  C/1/S  TRAPPIST-1e  38.0  False   \n",
       "4     0023_01      Earth     False  F/5/S  TRAPPIST-1e  20.0  False   \n",
       "\n",
       "   RoomService  FoodCourt  ShoppingMall     Spa  VRDeck              Name  \n",
       "0          0.0        0.0           0.0     0.0     0.0   Nelly Carsoning  \n",
       "1          0.0        9.0           0.0  2823.0     0.0    Lerome Peckers  \n",
       "2          0.0        0.0           0.0     0.0     0.0   Sabih Unhearfus  \n",
       "3          0.0     6652.0           0.0   181.0   585.0  Meratz Caltilter  \n",
       "4         10.0        0.0         635.0     0.0     0.0   Brence Harperez  "
      ]
     },
     "execution_count": 208,
     "metadata": {},
     "output_type": "execute_result"
    }
   ],
   "source": [
    "df_test.head(5)"
   ]
  },
  {
   "cell_type": "code",
   "execution_count": 209,
   "id": "2154dc8c",
   "metadata": {},
   "outputs": [
    {
     "name": "stderr",
     "output_type": "stream",
     "text": [
      "C:\\Users\\gk7\\AppData\\Local\\Temp\\7\\ipykernel_29680\\333688269.py:3: SettingWithCopyWarning: \n",
      "A value is trying to be set on a copy of a slice from a DataFrame\n",
      "\n",
      "See the caveats in the documentation: https://pandas.pydata.org/pandas-docs/stable/user_guide/indexing.html#returning-a-view-versus-a-copy\n",
      "  df_test[col][df_test[col].isnull()]='Unknown'\n",
      "C:\\Users\\gk7\\AppData\\Local\\Temp\\7\\ipykernel_29680\\333688269.py:3: SettingWithCopyWarning: \n",
      "A value is trying to be set on a copy of a slice from a DataFrame\n",
      "\n",
      "See the caveats in the documentation: https://pandas.pydata.org/pandas-docs/stable/user_guide/indexing.html#returning-a-view-versus-a-copy\n",
      "  df_test[col][df_test[col].isnull()]='Unknown'\n",
      "C:\\Users\\gk7\\AppData\\Local\\Temp\\7\\ipykernel_29680\\333688269.py:3: SettingWithCopyWarning: \n",
      "A value is trying to be set on a copy of a slice from a DataFrame\n",
      "\n",
      "See the caveats in the documentation: https://pandas.pydata.org/pandas-docs/stable/user_guide/indexing.html#returning-a-view-versus-a-copy\n",
      "  df_test[col][df_test[col].isnull()]='Unknown'\n"
     ]
    }
   ],
   "source": [
    "columns=['HomePlanet','Cabin','Destination']\n",
    "for col in columns:\n",
    "    df_test[col][df_test[col].isnull()]='Unknown'\n",
    "    df_test[col]=df_test[col].astype('category')"
   ]
  },
  {
   "cell_type": "code",
   "execution_count": 210,
   "id": "92dde785",
   "metadata": {},
   "outputs": [],
   "source": [
    "columns=['CryoSleep','VIP']\n",
    "for col in columns:\n",
    "    df_test[col]=np.select([df_test[col]==True,df_test[col]==False],[1,0],default=0)"
   ]
  },
  {
   "cell_type": "code",
   "execution_count": 211,
   "id": "a6e0d8e9",
   "metadata": {},
   "outputs": [],
   "source": [
    "columns=['Spa','RoomService','FoodCourt','ShoppingMall','VRDeck']\n",
    "df_test.update(df_test[columns].fillna(0))"
   ]
  },
  {
   "cell_type": "code",
   "execution_count": 38,
   "id": "b3f09a0b",
   "metadata": {},
   "outputs": [
    {
     "data": {
      "text/plain": [
       "PassengerId      0\n",
       "HomePlanet       0\n",
       "CryoSleep        0\n",
       "Cabin            0\n",
       "Destination      0\n",
       "Age             91\n",
       "VIP              0\n",
       "RoomService      0\n",
       "FoodCourt        0\n",
       "ShoppingMall     0\n",
       "Spa              0\n",
       "VRDeck           0\n",
       "Name            94\n",
       "dtype: int64"
      ]
     },
     "execution_count": 38,
     "metadata": {},
     "output_type": "execute_result"
    }
   ],
   "source": [
    "df_test.isnull().sum()"
   ]
  },
  {
   "cell_type": "code",
   "execution_count": 212,
   "id": "cb845052",
   "metadata": {},
   "outputs": [],
   "source": [
    "df_test['Cabin_A']=np.where(df_test['Cabin'].str.contains('A'),1,0)\n",
    "df_test['Cabin_B']=np.where(df_test['Cabin'].str.contains('B'),1,0)\n",
    "df_test['Cabin_C']=np.where(df_test['Cabin'].str.contains('C'),1,0)\n",
    "df_test['Cabin_D']=np.where(df_test['Cabin'].str.contains('D'),1,0)\n",
    "df_test['Cabin_E']=np.where(df_test['Cabin'].str.contains('E'),1,0)\n",
    "df_test['Cabin_F']=np.where(df_test['Cabin'].str.contains('F'),1,0)\n",
    "df_test['Cabin_G']=np.where(df_test['Cabin'].str.contains('G'),1,0)"
   ]
  },
  {
   "cell_type": "code",
   "execution_count": 213,
   "id": "69418aa6",
   "metadata": {},
   "outputs": [],
   "source": [
    "df_test['Transported']=clf.predict(df_test[cols])"
   ]
  },
  {
   "cell_type": "code",
   "execution_count": 214,
   "id": "ab944c4a",
   "metadata": {},
   "outputs": [
    {
     "data": {
      "text/html": [
       "<div>\n",
       "<style scoped>\n",
       "    .dataframe tbody tr th:only-of-type {\n",
       "        vertical-align: middle;\n",
       "    }\n",
       "\n",
       "    .dataframe tbody tr th {\n",
       "        vertical-align: top;\n",
       "    }\n",
       "\n",
       "    .dataframe thead th {\n",
       "        text-align: right;\n",
       "    }\n",
       "</style>\n",
       "<table border=\"1\" class=\"dataframe\">\n",
       "  <thead>\n",
       "    <tr style=\"text-align: right;\">\n",
       "      <th></th>\n",
       "      <th>PassengerId</th>\n",
       "      <th>HomePlanet</th>\n",
       "      <th>CryoSleep</th>\n",
       "      <th>Cabin</th>\n",
       "      <th>Destination</th>\n",
       "      <th>Age</th>\n",
       "      <th>VIP</th>\n",
       "      <th>RoomService</th>\n",
       "      <th>FoodCourt</th>\n",
       "      <th>ShoppingMall</th>\n",
       "      <th>...</th>\n",
       "      <th>VRDeck</th>\n",
       "      <th>Name</th>\n",
       "      <th>Cabin_A</th>\n",
       "      <th>Cabin_B</th>\n",
       "      <th>Cabin_C</th>\n",
       "      <th>Cabin_D</th>\n",
       "      <th>Cabin_E</th>\n",
       "      <th>Cabin_F</th>\n",
       "      <th>Cabin_G</th>\n",
       "      <th>Transported</th>\n",
       "    </tr>\n",
       "  </thead>\n",
       "  <tbody>\n",
       "    <tr>\n",
       "      <th>0</th>\n",
       "      <td>0013_01</td>\n",
       "      <td>Earth</td>\n",
       "      <td>1</td>\n",
       "      <td>G/3/S</td>\n",
       "      <td>TRAPPIST-1e</td>\n",
       "      <td>27.0</td>\n",
       "      <td>0</td>\n",
       "      <td>0.0</td>\n",
       "      <td>0.0</td>\n",
       "      <td>0.0</td>\n",
       "      <td>...</td>\n",
       "      <td>0.0</td>\n",
       "      <td>Nelly Carsoning</td>\n",
       "      <td>0</td>\n",
       "      <td>0</td>\n",
       "      <td>0</td>\n",
       "      <td>0</td>\n",
       "      <td>0</td>\n",
       "      <td>0</td>\n",
       "      <td>1</td>\n",
       "      <td>True</td>\n",
       "    </tr>\n",
       "    <tr>\n",
       "      <th>1</th>\n",
       "      <td>0018_01</td>\n",
       "      <td>Earth</td>\n",
       "      <td>0</td>\n",
       "      <td>F/4/S</td>\n",
       "      <td>TRAPPIST-1e</td>\n",
       "      <td>19.0</td>\n",
       "      <td>0</td>\n",
       "      <td>0.0</td>\n",
       "      <td>9.0</td>\n",
       "      <td>0.0</td>\n",
       "      <td>...</td>\n",
       "      <td>0.0</td>\n",
       "      <td>Lerome Peckers</td>\n",
       "      <td>0</td>\n",
       "      <td>0</td>\n",
       "      <td>0</td>\n",
       "      <td>0</td>\n",
       "      <td>0</td>\n",
       "      <td>1</td>\n",
       "      <td>0</td>\n",
       "      <td>False</td>\n",
       "    </tr>\n",
       "    <tr>\n",
       "      <th>2</th>\n",
       "      <td>0019_01</td>\n",
       "      <td>Europa</td>\n",
       "      <td>1</td>\n",
       "      <td>C/0/S</td>\n",
       "      <td>55 Cancri e</td>\n",
       "      <td>31.0</td>\n",
       "      <td>0</td>\n",
       "      <td>0.0</td>\n",
       "      <td>0.0</td>\n",
       "      <td>0.0</td>\n",
       "      <td>...</td>\n",
       "      <td>0.0</td>\n",
       "      <td>Sabih Unhearfus</td>\n",
       "      <td>0</td>\n",
       "      <td>0</td>\n",
       "      <td>1</td>\n",
       "      <td>0</td>\n",
       "      <td>0</td>\n",
       "      <td>0</td>\n",
       "      <td>0</td>\n",
       "      <td>True</td>\n",
       "    </tr>\n",
       "    <tr>\n",
       "      <th>3</th>\n",
       "      <td>0021_01</td>\n",
       "      <td>Europa</td>\n",
       "      <td>0</td>\n",
       "      <td>C/1/S</td>\n",
       "      <td>TRAPPIST-1e</td>\n",
       "      <td>38.0</td>\n",
       "      <td>0</td>\n",
       "      <td>0.0</td>\n",
       "      <td>6652.0</td>\n",
       "      <td>0.0</td>\n",
       "      <td>...</td>\n",
       "      <td>585.0</td>\n",
       "      <td>Meratz Caltilter</td>\n",
       "      <td>0</td>\n",
       "      <td>0</td>\n",
       "      <td>1</td>\n",
       "      <td>0</td>\n",
       "      <td>0</td>\n",
       "      <td>0</td>\n",
       "      <td>0</td>\n",
       "      <td>True</td>\n",
       "    </tr>\n",
       "    <tr>\n",
       "      <th>4</th>\n",
       "      <td>0023_01</td>\n",
       "      <td>Earth</td>\n",
       "      <td>0</td>\n",
       "      <td>F/5/S</td>\n",
       "      <td>TRAPPIST-1e</td>\n",
       "      <td>20.0</td>\n",
       "      <td>0</td>\n",
       "      <td>10.0</td>\n",
       "      <td>0.0</td>\n",
       "      <td>635.0</td>\n",
       "      <td>...</td>\n",
       "      <td>0.0</td>\n",
       "      <td>Brence Harperez</td>\n",
       "      <td>0</td>\n",
       "      <td>0</td>\n",
       "      <td>0</td>\n",
       "      <td>0</td>\n",
       "      <td>0</td>\n",
       "      <td>1</td>\n",
       "      <td>0</td>\n",
       "      <td>True</td>\n",
       "    </tr>\n",
       "  </tbody>\n",
       "</table>\n",
       "<p>5 rows × 21 columns</p>\n",
       "</div>"
      ],
      "text/plain": [
       "  PassengerId HomePlanet  CryoSleep  Cabin  Destination   Age  VIP  \\\n",
       "0     0013_01      Earth          1  G/3/S  TRAPPIST-1e  27.0    0   \n",
       "1     0018_01      Earth          0  F/4/S  TRAPPIST-1e  19.0    0   \n",
       "2     0019_01     Europa          1  C/0/S  55 Cancri e  31.0    0   \n",
       "3     0021_01     Europa          0  C/1/S  TRAPPIST-1e  38.0    0   \n",
       "4     0023_01      Earth          0  F/5/S  TRAPPIST-1e  20.0    0   \n",
       "\n",
       "   RoomService  FoodCourt  ShoppingMall  ...  VRDeck              Name  \\\n",
       "0          0.0        0.0           0.0  ...     0.0   Nelly Carsoning   \n",
       "1          0.0        9.0           0.0  ...     0.0    Lerome Peckers   \n",
       "2          0.0        0.0           0.0  ...     0.0   Sabih Unhearfus   \n",
       "3          0.0     6652.0           0.0  ...   585.0  Meratz Caltilter   \n",
       "4         10.0        0.0         635.0  ...     0.0   Brence Harperez   \n",
       "\n",
       "  Cabin_A  Cabin_B  Cabin_C  Cabin_D  Cabin_E  Cabin_F  Cabin_G  Transported  \n",
       "0       0        0        0        0        0        0        1         True  \n",
       "1       0        0        0        0        0        1        0        False  \n",
       "2       0        0        1        0        0        0        0         True  \n",
       "3       0        0        1        0        0        0        0         True  \n",
       "4       0        0        0        0        0        1        0         True  \n",
       "\n",
       "[5 rows x 21 columns]"
      ]
     },
     "execution_count": 214,
     "metadata": {},
     "output_type": "execute_result"
    }
   ],
   "source": [
    "df_test.head()"
   ]
  },
  {
   "cell_type": "code",
   "execution_count": 215,
   "id": "06085847",
   "metadata": {},
   "outputs": [
    {
     "data": {
      "text/plain": [
       "True     2385\n",
       "False    1892\n",
       "Name: Transported, dtype: int64"
      ]
     },
     "execution_count": 215,
     "metadata": {},
     "output_type": "execute_result"
    }
   ],
   "source": [
    "df_test['Transported'].value_counts()"
   ]
  },
  {
   "cell_type": "code",
   "execution_count": 216,
   "id": "e2fca9be",
   "metadata": {},
   "outputs": [],
   "source": [
    "df_submit=df_test[['PassengerId','Transported']]\n",
    "df_submit.to_csv('Submission.csv',index=False)"
   ]
  },
  {
   "cell_type": "code",
   "execution_count": 16,
   "id": "57f8e864",
   "metadata": {},
   "outputs": [],
   "source": [
    "df_dummy=pd.get_dummies(df,prefix=['HomePlanet','Destination'],columns=['HomePlanet','Destination'])"
   ]
  },
  {
   "cell_type": "code",
   "execution_count": 17,
   "id": "31b7615a",
   "metadata": {},
   "outputs": [
    {
     "data": {
      "text/html": [
       "<div>\n",
       "<style scoped>\n",
       "    .dataframe tbody tr th:only-of-type {\n",
       "        vertical-align: middle;\n",
       "    }\n",
       "\n",
       "    .dataframe tbody tr th {\n",
       "        vertical-align: top;\n",
       "    }\n",
       "\n",
       "    .dataframe thead th {\n",
       "        text-align: right;\n",
       "    }\n",
       "</style>\n",
       "<table border=\"1\" class=\"dataframe\">\n",
       "  <thead>\n",
       "    <tr style=\"text-align: right;\">\n",
       "      <th></th>\n",
       "      <th>PassengerId</th>\n",
       "      <th>CryoSleep</th>\n",
       "      <th>Cabin</th>\n",
       "      <th>Age</th>\n",
       "      <th>VIP</th>\n",
       "      <th>RoomService</th>\n",
       "      <th>FoodCourt</th>\n",
       "      <th>ShoppingMall</th>\n",
       "      <th>Spa</th>\n",
       "      <th>VRDeck</th>\n",
       "      <th>...</th>\n",
       "      <th>Transported</th>\n",
       "      <th>Sample</th>\n",
       "      <th>HomePlanet_Earth</th>\n",
       "      <th>HomePlanet_Europa</th>\n",
       "      <th>HomePlanet_Mars</th>\n",
       "      <th>HomePlanet_Unknown</th>\n",
       "      <th>Destination_55 Cancri e</th>\n",
       "      <th>Destination_PSO J318.5-22</th>\n",
       "      <th>Destination_TRAPPIST-1e</th>\n",
       "      <th>Destination_Unknown</th>\n",
       "    </tr>\n",
       "  </thead>\n",
       "  <tbody>\n",
       "    <tr>\n",
       "      <th>0</th>\n",
       "      <td>0001_01</td>\n",
       "      <td>0</td>\n",
       "      <td>B/0/P</td>\n",
       "      <td>39.0</td>\n",
       "      <td>0</td>\n",
       "      <td>0.0</td>\n",
       "      <td>0.0</td>\n",
       "      <td>0.0</td>\n",
       "      <td>0.0</td>\n",
       "      <td>0.0</td>\n",
       "      <td>...</td>\n",
       "      <td>False</td>\n",
       "      <td>VAL</td>\n",
       "      <td>0</td>\n",
       "      <td>1</td>\n",
       "      <td>0</td>\n",
       "      <td>0</td>\n",
       "      <td>0</td>\n",
       "      <td>0</td>\n",
       "      <td>1</td>\n",
       "      <td>0</td>\n",
       "    </tr>\n",
       "    <tr>\n",
       "      <th>1</th>\n",
       "      <td>0002_01</td>\n",
       "      <td>0</td>\n",
       "      <td>F/0/S</td>\n",
       "      <td>24.0</td>\n",
       "      <td>0</td>\n",
       "      <td>109.0</td>\n",
       "      <td>9.0</td>\n",
       "      <td>25.0</td>\n",
       "      <td>549.0</td>\n",
       "      <td>44.0</td>\n",
       "      <td>...</td>\n",
       "      <td>True</td>\n",
       "      <td>DEV</td>\n",
       "      <td>1</td>\n",
       "      <td>0</td>\n",
       "      <td>0</td>\n",
       "      <td>0</td>\n",
       "      <td>0</td>\n",
       "      <td>0</td>\n",
       "      <td>1</td>\n",
       "      <td>0</td>\n",
       "    </tr>\n",
       "    <tr>\n",
       "      <th>2</th>\n",
       "      <td>0003_01</td>\n",
       "      <td>0</td>\n",
       "      <td>A/0/S</td>\n",
       "      <td>58.0</td>\n",
       "      <td>1</td>\n",
       "      <td>43.0</td>\n",
       "      <td>3576.0</td>\n",
       "      <td>0.0</td>\n",
       "      <td>6715.0</td>\n",
       "      <td>49.0</td>\n",
       "      <td>...</td>\n",
       "      <td>False</td>\n",
       "      <td>DEV</td>\n",
       "      <td>0</td>\n",
       "      <td>1</td>\n",
       "      <td>0</td>\n",
       "      <td>0</td>\n",
       "      <td>0</td>\n",
       "      <td>0</td>\n",
       "      <td>1</td>\n",
       "      <td>0</td>\n",
       "    </tr>\n",
       "    <tr>\n",
       "      <th>3</th>\n",
       "      <td>0003_02</td>\n",
       "      <td>0</td>\n",
       "      <td>A/0/S</td>\n",
       "      <td>33.0</td>\n",
       "      <td>0</td>\n",
       "      <td>0.0</td>\n",
       "      <td>1283.0</td>\n",
       "      <td>371.0</td>\n",
       "      <td>3329.0</td>\n",
       "      <td>193.0</td>\n",
       "      <td>...</td>\n",
       "      <td>False</td>\n",
       "      <td>DEV</td>\n",
       "      <td>0</td>\n",
       "      <td>1</td>\n",
       "      <td>0</td>\n",
       "      <td>0</td>\n",
       "      <td>0</td>\n",
       "      <td>0</td>\n",
       "      <td>1</td>\n",
       "      <td>0</td>\n",
       "    </tr>\n",
       "    <tr>\n",
       "      <th>4</th>\n",
       "      <td>0004_01</td>\n",
       "      <td>0</td>\n",
       "      <td>F/1/S</td>\n",
       "      <td>16.0</td>\n",
       "      <td>0</td>\n",
       "      <td>303.0</td>\n",
       "      <td>70.0</td>\n",
       "      <td>151.0</td>\n",
       "      <td>565.0</td>\n",
       "      <td>2.0</td>\n",
       "      <td>...</td>\n",
       "      <td>True</td>\n",
       "      <td>DEV</td>\n",
       "      <td>1</td>\n",
       "      <td>0</td>\n",
       "      <td>0</td>\n",
       "      <td>0</td>\n",
       "      <td>0</td>\n",
       "      <td>0</td>\n",
       "      <td>1</td>\n",
       "      <td>0</td>\n",
       "    </tr>\n",
       "  </tbody>\n",
       "</table>\n",
       "<p>5 rows × 21 columns</p>\n",
       "</div>"
      ],
      "text/plain": [
       "  PassengerId  CryoSleep  Cabin   Age  VIP  RoomService  FoodCourt  \\\n",
       "0     0001_01          0  B/0/P  39.0    0          0.0        0.0   \n",
       "1     0002_01          0  F/0/S  24.0    0        109.0        9.0   \n",
       "2     0003_01          0  A/0/S  58.0    1         43.0     3576.0   \n",
       "3     0003_02          0  A/0/S  33.0    0          0.0     1283.0   \n",
       "4     0004_01          0  F/1/S  16.0    0        303.0       70.0   \n",
       "\n",
       "   ShoppingMall     Spa  VRDeck  ... Transported  Sample HomePlanet_Earth  \\\n",
       "0           0.0     0.0     0.0  ...       False     VAL                0   \n",
       "1          25.0   549.0    44.0  ...        True     DEV                1   \n",
       "2           0.0  6715.0    49.0  ...       False     DEV                0   \n",
       "3         371.0  3329.0   193.0  ...       False     DEV                0   \n",
       "4         151.0   565.0     2.0  ...        True     DEV                1   \n",
       "\n",
       "   HomePlanet_Europa  HomePlanet_Mars  HomePlanet_Unknown  \\\n",
       "0                  1                0                   0   \n",
       "1                  0                0                   0   \n",
       "2                  1                0                   0   \n",
       "3                  1                0                   0   \n",
       "4                  0                0                   0   \n",
       "\n",
       "   Destination_55 Cancri e  Destination_PSO J318.5-22  \\\n",
       "0                        0                          0   \n",
       "1                        0                          0   \n",
       "2                        0                          0   \n",
       "3                        0                          0   \n",
       "4                        0                          0   \n",
       "\n",
       "   Destination_TRAPPIST-1e  Destination_Unknown  \n",
       "0                        1                    0  \n",
       "1                        1                    0  \n",
       "2                        1                    0  \n",
       "3                        1                    0  \n",
       "4                        1                    0  \n",
       "\n",
       "[5 rows x 21 columns]"
      ]
     },
     "execution_count": 17,
     "metadata": {},
     "output_type": "execute_result"
    }
   ],
   "source": [
    "df_dummy.head()"
   ]
  },
  {
   "cell_type": "code",
   "execution_count": 45,
   "id": "df0f7e0b",
   "metadata": {},
   "outputs": [],
   "source": [
    "unwanted_cols=['PassengerId','Name','Transported','Sample','Cabin']\n",
    "cols=[x for x in df.columns if x not in unwanted_cols]"
   ]
  },
  {
   "cell_type": "code",
   "execution_count": 46,
   "id": "0ce91a29",
   "metadata": {},
   "outputs": [
    {
     "data": {
      "text/plain": [
       "['HomePlanet',\n",
       " 'CryoSleep',\n",
       " 'Destination',\n",
       " 'Age',\n",
       " 'VIP',\n",
       " 'RoomService',\n",
       " 'FoodCourt',\n",
       " 'ShoppingMall',\n",
       " 'Spa',\n",
       " 'VRDeck',\n",
       " 'Cabin_A',\n",
       " 'Cabin_B',\n",
       " 'Cabin_C',\n",
       " 'Cabin_D',\n",
       " 'Cabin_E',\n",
       " 'Cabin_F',\n",
       " 'Cabin_G']"
      ]
     },
     "execution_count": 46,
     "metadata": {},
     "output_type": "execute_result"
    }
   ],
   "source": [
    "cols"
   ]
  },
  {
   "cell_type": "code",
   "execution_count": 225,
   "id": "f9a61358",
   "metadata": {},
   "outputs": [
    {
     "data": {
      "text/plain": [
       "Unknown     199\n",
       "G/734/S       8\n",
       "C/137/S       7\n",
       "B/201/P       7\n",
       "E/13/S        7\n",
       "           ... \n",
       "G/80/S        1\n",
       "G/800/P       1\n",
       "G/802/S       1\n",
       "G/803/P       1\n",
       "F/1763/S      1\n",
       "Name: Cabin, Length: 6561, dtype: int64"
      ]
     },
     "execution_count": 225,
     "metadata": {},
     "output_type": "execute_result"
    }
   ],
   "source": [
    "##Encoding Cabin\n",
    "df['Cabin'].value_counts().sort_values(ascending=False)"
   ]
  },
  {
   "cell_type": "code",
   "execution_count": 20,
   "id": "b7c5ee08",
   "metadata": {},
   "outputs": [],
   "source": [
    "df_dummy['Cabin_A']=np.where(df['Cabin'].str.contains('A'),1,0)\n",
    "df_dummy['Cabin_B']=np.where(df['Cabin'].str.contains('B'),1,0)\n",
    "df_dummy['Cabin_C']=np.where(df['Cabin'].str.contains('C'),1,0)\n",
    "df_dummy['Cabin_D']=np.where(df['Cabin'].str.contains('D'),1,0)\n",
    "df_dummy['Cabin_E']=np.where(df['Cabin'].str.contains('E'),1,0)\n",
    "df_dummy['Cabin_F']=np.where(df['Cabin'].str.contains('F'),1,0)\n",
    "df_dummy['Cabin_G']=np.where(df['Cabin'].str.contains('G'),1,0)"
   ]
  },
  {
   "cell_type": "code",
   "execution_count": 43,
   "id": "677de223",
   "metadata": {},
   "outputs": [],
   "source": [
    "df['Cabin_A']=np.where(df['Cabin'].str.contains('A'),1,0)\n",
    "df['Cabin_B']=np.where(df['Cabin'].str.contains('B'),1,0)\n",
    "df['Cabin_C']=np.where(df['Cabin'].str.contains('C'),1,0)\n",
    "df['Cabin_D']=np.where(df['Cabin'].str.contains('D'),1,0)\n",
    "df['Cabin_E']=np.where(df['Cabin'].str.contains('E'),1,0)\n",
    "df['Cabin_F']=np.where(df['Cabin'].str.contains('F'),1,0)\n",
    "df['Cabin_G']=np.where(df['Cabin'].str.contains('G'),1,0)"
   ]
  },
  {
   "cell_type": "code",
   "execution_count": 428,
   "id": "c9f7e0fe",
   "metadata": {},
   "outputs": [],
   "source": [
    "cols=['CryoSleep','VRDeck_S','Spa_S','FoodCourt_S','HomePlanet','RoomService_S','ShoppingMall_S','Age_S','Cabin_A','Cabin_B'\n",
    ",'Cabin_C','Cabin_D','Cabin_E','Cabin_F','Cabin_G','Destination']"
   ]
  },
  {
   "cell_type": "code",
   "execution_count": 127,
   "id": "cec7baa9",
   "metadata": {},
   "outputs": [],
   "source": [
    "unwanted_cols=['PassengerId','Name','Transported','Sample','Cabin']\n",
    "cols=[x for x in df.columns if x not in unwanted_cols]"
   ]
  },
  {
   "cell_type": "code",
   "execution_count": 429,
   "id": "a7f93100",
   "metadata": {},
   "outputs": [
    {
     "data": {
      "text/plain": [
       "['CryoSleep',\n",
       " 'VRDeck_S',\n",
       " 'Spa_S',\n",
       " 'FoodCourt_S',\n",
       " 'HomePlanet',\n",
       " 'RoomService_S',\n",
       " 'ShoppingMall_S',\n",
       " 'Age_S',\n",
       " 'Cabin_A',\n",
       " 'Cabin_B',\n",
       " 'Cabin_C',\n",
       " 'Cabin_D',\n",
       " 'Cabin_E',\n",
       " 'Cabin_F',\n",
       " 'Cabin_G',\n",
       " 'Destination']"
      ]
     },
     "execution_count": 429,
     "metadata": {},
     "output_type": "execute_result"
    }
   ],
   "source": [
    "cols"
   ]
  },
  {
   "cell_type": "code",
   "execution_count": 27,
   "id": "20a476d3",
   "metadata": {},
   "outputs": [],
   "source": [
    "X_train=df_dummy[df_dummy['Sample']=='DEV']\n",
    "X_test=df_dummy[df_dummy['Sample']=='VAL']"
   ]
  },
  {
   "cell_type": "code",
   "execution_count": 26,
   "id": "540464a5",
   "metadata": {},
   "outputs": [],
   "source": [
    "X_train=df[df['Sample']=='DEV']\n",
    "X_test=df[df['Sample']=='VAL']"
   ]
  },
  {
   "cell_type": "code",
   "execution_count": 28,
   "id": "084934d5",
   "metadata": {},
   "outputs": [],
   "source": [
    "X_train_c=X_train[cols]\n",
    "Y_train=X_train['Transported']\n",
    "X_test_c=X_test[cols]\n",
    "Y_test=X_test['Transported']"
   ]
  },
  {
   "cell_type": "code",
   "execution_count": 265,
   "id": "a28486b3",
   "metadata": {},
   "outputs": [],
   "source": [
    "from sklearn.ensemble import AdaBoostClassifier\n",
    "clf=AdaBoostClassifier(random_state=50,n_estimators=110,learning_rate=0.5)"
   ]
  },
  {
   "cell_type": "code",
   "execution_count": 172,
   "id": "2017f3d5",
   "metadata": {},
   "outputs": [],
   "source": [
    "clf=lgbm.LGBMClassifier(importance_type='gain',random_state=50,max_depth=5,n_estimators=50)"
   ]
  },
  {
   "cell_type": "code",
   "execution_count": 173,
   "id": "4cb57116",
   "metadata": {},
   "outputs": [
    {
     "data": {
      "text/plain": [
       "LGBMClassifier(importance_type='gain', max_depth=4, n_estimators=50,\n",
       "               random_state=50)"
      ]
     },
     "execution_count": 173,
     "metadata": {},
     "output_type": "execute_result"
    }
   ],
   "source": [
    "clf.fit(X_train_c,Y_train)"
   ]
  },
  {
   "cell_type": "code",
   "execution_count": 174,
   "id": "efc15652",
   "metadata": {},
   "outputs": [],
   "source": [
    "y_pred=clf.predict_proba(X_train_c)[:,1]"
   ]
  },
  {
   "cell_type": "code",
   "execution_count": 175,
   "id": "16bc632d",
   "metadata": {},
   "outputs": [
    {
     "name": "stdout",
     "output_type": "stream",
     "text": [
      "KS is 44.65\n"
     ]
    },
    {
     "data": {
      "text/html": [
       "<div>\n",
       "<style scoped>\n",
       "    .dataframe tbody tr th:only-of-type {\n",
       "        vertical-align: middle;\n",
       "    }\n",
       "\n",
       "    .dataframe tbody tr th {\n",
       "        vertical-align: top;\n",
       "    }\n",
       "\n",
       "    .dataframe thead th {\n",
       "        text-align: right;\n",
       "    }\n",
       "</style>\n",
       "<table border=\"1\" class=\"dataframe\">\n",
       "  <thead>\n",
       "    <tr style=\"text-align: right;\">\n",
       "      <th></th>\n",
       "      <th>Total_Count</th>\n",
       "      <th>min_prob</th>\n",
       "      <th>max_prob</th>\n",
       "      <th>mean_prob</th>\n",
       "      <th>Target</th>\n",
       "      <th>Target_rate</th>\n",
       "      <th>cum_Target</th>\n",
       "      <th>cum_nonTarget</th>\n",
       "      <th>cum_pct_Total</th>\n",
       "      <th>KS</th>\n",
       "    </tr>\n",
       "    <tr>\n",
       "      <th>Bin</th>\n",
       "      <th></th>\n",
       "      <th></th>\n",
       "      <th></th>\n",
       "      <th></th>\n",
       "      <th></th>\n",
       "      <th></th>\n",
       "      <th></th>\n",
       "      <th></th>\n",
       "      <th></th>\n",
       "      <th></th>\n",
       "    </tr>\n",
       "  </thead>\n",
       "  <tbody>\n",
       "    <tr>\n",
       "      <th>1</th>\n",
       "      <td>608</td>\n",
       "      <td>True</td>\n",
       "      <td>True</td>\n",
       "      <td>1.000000</td>\n",
       "      <td>445</td>\n",
       "      <td>73.233%</td>\n",
       "      <td>14.56%</td>\n",
       "      <td>5.38%</td>\n",
       "      <td>10.00%</td>\n",
       "      <td>9.18</td>\n",
       "    </tr>\n",
       "    <tr>\n",
       "      <th>2</th>\n",
       "      <td>608</td>\n",
       "      <td>True</td>\n",
       "      <td>True</td>\n",
       "      <td>1.000000</td>\n",
       "      <td>437</td>\n",
       "      <td>72.016%</td>\n",
       "      <td>28.87%</td>\n",
       "      <td>11.00%</td>\n",
       "      <td>20.00%</td>\n",
       "      <td>17.87</td>\n",
       "    </tr>\n",
       "    <tr>\n",
       "      <th>3</th>\n",
       "      <td>609</td>\n",
       "      <td>True</td>\n",
       "      <td>True</td>\n",
       "      <td>1.000000</td>\n",
       "      <td>441</td>\n",
       "      <td>72.566%</td>\n",
       "      <td>43.31%</td>\n",
       "      <td>16.52%</td>\n",
       "      <td>30.00%</td>\n",
       "      <td>26.79</td>\n",
       "    </tr>\n",
       "    <tr>\n",
       "      <th>4</th>\n",
       "      <td>608</td>\n",
       "      <td>True</td>\n",
       "      <td>True</td>\n",
       "      <td>1.000000</td>\n",
       "      <td>440</td>\n",
       "      <td>72.449%</td>\n",
       "      <td>57.71%</td>\n",
       "      <td>22.06%</td>\n",
       "      <td>40.00%</td>\n",
       "      <td>35.66</td>\n",
       "    </tr>\n",
       "    <tr>\n",
       "      <th>5</th>\n",
       "      <td>609</td>\n",
       "      <td>True</td>\n",
       "      <td>True</td>\n",
       "      <td>1.000000</td>\n",
       "      <td>442</td>\n",
       "      <td>72.738%</td>\n",
       "      <td>72.19%</td>\n",
       "      <td>27.55%</td>\n",
       "      <td>50.00%</td>\n",
       "      <td>44.65</td>\n",
       "    </tr>\n",
       "    <tr>\n",
       "      <th>6</th>\n",
       "      <td>609</td>\n",
       "      <td>False</td>\n",
       "      <td>False</td>\n",
       "      <td>0.000000</td>\n",
       "      <td>175</td>\n",
       "      <td>28.806%</td>\n",
       "      <td>77.93%</td>\n",
       "      <td>41.87%</td>\n",
       "      <td>60.00%</td>\n",
       "      <td>36.05</td>\n",
       "    </tr>\n",
       "    <tr>\n",
       "      <th>7</th>\n",
       "      <td>608</td>\n",
       "      <td>False</td>\n",
       "      <td>False</td>\n",
       "      <td>0.000000</td>\n",
       "      <td>159</td>\n",
       "      <td>26.174%</td>\n",
       "      <td>83.13%</td>\n",
       "      <td>56.71%</td>\n",
       "      <td>70.00%</td>\n",
       "      <td>26.42</td>\n",
       "    </tr>\n",
       "    <tr>\n",
       "      <th>8</th>\n",
       "      <td>609</td>\n",
       "      <td>False</td>\n",
       "      <td>False</td>\n",
       "      <td>0.000000</td>\n",
       "      <td>174</td>\n",
       "      <td>28.676%</td>\n",
       "      <td>88.84%</td>\n",
       "      <td>71.06%</td>\n",
       "      <td>80.00%</td>\n",
       "      <td>17.78</td>\n",
       "    </tr>\n",
       "    <tr>\n",
       "      <th>9</th>\n",
       "      <td>608</td>\n",
       "      <td>False</td>\n",
       "      <td>False</td>\n",
       "      <td>0.000000</td>\n",
       "      <td>170</td>\n",
       "      <td>28.111%</td>\n",
       "      <td>94.43%</td>\n",
       "      <td>85.51%</td>\n",
       "      <td>90.00%</td>\n",
       "      <td>8.92</td>\n",
       "    </tr>\n",
       "    <tr>\n",
       "      <th>10</th>\n",
       "      <td>609</td>\n",
       "      <td>False</td>\n",
       "      <td>True</td>\n",
       "      <td>0.027915</td>\n",
       "      <td>170</td>\n",
       "      <td>27.994%</td>\n",
       "      <td>100.00%</td>\n",
       "      <td>100.00%</td>\n",
       "      <td>100.00%</td>\n",
       "      <td>0.00</td>\n",
       "    </tr>\n",
       "  </tbody>\n",
       "</table>\n",
       "</div>"
      ],
      "text/plain": [
       "     Total_Count  min_prob  max_prob  mean_prob  Target Target_rate  \\\n",
       "Bin                                                                   \n",
       "1            608      True      True   1.000000     445     73.233%   \n",
       "2            608      True      True   1.000000     437     72.016%   \n",
       "3            609      True      True   1.000000     441     72.566%   \n",
       "4            608      True      True   1.000000     440     72.449%   \n",
       "5            609      True      True   1.000000     442     72.738%   \n",
       "6            609     False     False   0.000000     175     28.806%   \n",
       "7            608     False     False   0.000000     159     26.174%   \n",
       "8            609     False     False   0.000000     174     28.676%   \n",
       "9            608     False     False   0.000000     170     28.111%   \n",
       "10           609     False      True   0.027915     170     27.994%   \n",
       "\n",
       "    cum_Target cum_nonTarget cum_pct_Total     KS  \n",
       "Bin                                                \n",
       "1       14.56%         5.38%        10.00%   9.18  \n",
       "2       28.87%        11.00%        20.00%  17.87  \n",
       "3       43.31%        16.52%        30.00%  26.79  \n",
       "4       57.71%        22.06%        40.00%  35.66  \n",
       "5       72.19%        27.55%        50.00%  44.65  \n",
       "6       77.93%        41.87%        60.00%  36.05  \n",
       "7       83.13%        56.71%        70.00%  26.42  \n",
       "8       88.84%        71.06%        80.00%  17.78  \n",
       "9       94.43%        85.51%        90.00%   8.92  \n",
       "10     100.00%       100.00%       100.00%   0.00  "
      ]
     },
     "execution_count": 175,
     "metadata": {},
     "output_type": "execute_result"
    }
   ],
   "source": [
    "ks(y_pred,Y_train)"
   ]
  },
  {
   "cell_type": "code",
   "execution_count": 176,
   "id": "2ea4b9c3",
   "metadata": {},
   "outputs": [
    {
     "name": "stdout",
     "output_type": "stream",
     "text": [
      "              precision    recall  f1-score   support\n",
      "\n",
      "       False       0.85      0.76      0.80      3026\n",
      "        True       0.78      0.87      0.83      3059\n",
      "\n",
      "    accuracy                           0.81      6085\n",
      "   macro avg       0.82      0.81      0.81      6085\n",
      "weighted avg       0.82      0.81      0.81      6085\n",
      "\n"
     ]
    }
   ],
   "source": [
    "print(classification_report(Y_train,clf.predict(X_train_c)))"
   ]
  },
  {
   "cell_type": "code",
   "execution_count": 177,
   "id": "0f06f40e",
   "metadata": {},
   "outputs": [
    {
     "name": "stdout",
     "output_type": "stream",
     "text": [
      "              precision    recall  f1-score   support\n",
      "\n",
      "       False       0.84      0.72      0.77      1289\n",
      "        True       0.76      0.87      0.81      1319\n",
      "\n",
      "    accuracy                           0.79      2608\n",
      "   macro avg       0.80      0.79      0.79      2608\n",
      "weighted avg       0.80      0.79      0.79      2608\n",
      "\n"
     ]
    }
   ],
   "source": [
    "print(classification_report(Y_test,clf.predict(X_test_c)))"
   ]
  },
  {
   "cell_type": "code",
   "execution_count": 178,
   "id": "e7f581ec",
   "metadata": {},
   "outputs": [
    {
     "name": "stdout",
     "output_type": "stream",
     "text": [
      "0.7921779141104295\n"
     ]
    }
   ],
   "source": [
    "print(accuracy_score(Y_test,clf.predict(X_test_c)))"
   ]
  },
  {
   "cell_type": "code",
   "execution_count": 74,
   "id": "5edd119e",
   "metadata": {},
   "outputs": [],
   "source": [
    "df_test=pd.read_csv('test.csv',encoding='latin1')"
   ]
  },
  {
   "cell_type": "code",
   "execution_count": 81,
   "id": "d49fa1b1",
   "metadata": {},
   "outputs": [],
   "source": [
    "df_dummy_test=pd.get_dummies(df_test,prefix=['HomePlanet','Destination'],columns=['HomePlanet','Destination'])"
   ]
  },
  {
   "cell_type": "code",
   "execution_count": 82,
   "id": "825945f2",
   "metadata": {},
   "outputs": [],
   "source": [
    "df_dummy_test['Cabin_A']=np.where(df_test['Cabin'].str.contains('A'),1,0)\n",
    "df_dummy_test['Cabin_B']=np.where(df_test['Cabin'].str.contains('B'),1,0)\n",
    "df_dummy_test['Cabin_C']=np.where(df_test['Cabin'].str.contains('C'),1,0)\n",
    "df_dummy_test['Cabin_D']=np.where(df_test['Cabin'].str.contains('D'),1,0)\n",
    "df_dummy_test['Cabin_E']=np.where(df_test['Cabin'].str.contains('E'),1,0)\n",
    "df_dummy_test['Cabin_F']=np.where(df_test['Cabin'].str.contains('F'),1,0)\n",
    "df_dummy_test['Cabin_G']=np.where(df_test['Cabin'].str.contains('G'),1,0)"
   ]
  },
  {
   "cell_type": "code",
   "execution_count": 117,
   "id": "399706ab",
   "metadata": {},
   "outputs": [],
   "source": [
    "df_dummy_test['Transported']=clf.predict(df_dummy_test[cols])"
   ]
  },
  {
   "cell_type": "code",
   "execution_count": 118,
   "id": "8f8ee33a",
   "metadata": {},
   "outputs": [
    {
     "data": {
      "text/plain": [
       "True     2363\n",
       "False    1914\n",
       "Name: Transported, dtype: int64"
      ]
     },
     "execution_count": 118,
     "metadata": {},
     "output_type": "execute_result"
    }
   ],
   "source": [
    "df_dummy_test['Transported'].value_counts()"
   ]
  },
  {
   "cell_type": "code",
   "execution_count": 86,
   "id": "983fca12",
   "metadata": {},
   "outputs": [],
   "source": [
    "df_submit=df_dummy_test[['PassengerId','Transported']]\n",
    "df_submit.to_csv('Submission.csv',index=False)"
   ]
  },
  {
   "cell_type": "code",
   "execution_count": 147,
   "id": "44687eb3",
   "metadata": {},
   "outputs": [],
   "source": [
    "df_test['Cabin_A']=np.where(df_test['Cabin'].str.contains('A'),1,0)\n",
    "df_test['Cabin_B']=np.where(df_test['Cabin'].str.contains('B'),1,0)\n",
    "df_test['Cabin_C']=np.where(df_test['Cabin'].str.contains('C'),1,0)\n",
    "df_test['Cabin_D']=np.where(df_test['Cabin'].str.contains('D'),1,0)\n",
    "df_test['Cabin_E']=np.where(df_test['Cabin'].str.contains('E'),1,0)\n",
    "df_test['Cabin_F']=np.where(df_test['Cabin'].str.contains('F'),1,0)\n",
    "df_test['Cabin_G']=np.where(df_test['Cabin'].str.contains('G'),1,0)"
   ]
  },
  {
   "cell_type": "code",
   "execution_count": 149,
   "id": "66212edf",
   "metadata": {},
   "outputs": [],
   "source": [
    "df_test['Transported']=clf.predict(df_test[cols])"
   ]
  },
  {
   "cell_type": "code",
   "execution_count": 150,
   "id": "671bb809",
   "metadata": {},
   "outputs": [
    {
     "data": {
      "text/plain": [
       "True     2385\n",
       "False    1892\n",
       "Name: Transported, dtype: int64"
      ]
     },
     "execution_count": 150,
     "metadata": {},
     "output_type": "execute_result"
    }
   ],
   "source": [
    "df_test['Transported'].value_counts()"
   ]
  },
  {
   "cell_type": "code",
   "execution_count": 179,
   "id": "ddf629aa",
   "metadata": {},
   "outputs": [],
   "source": [
    "df_submit=df_test[['PassengerId','Transported']]\n",
    "df_submit.to_csv('Submission.csv',index=False)"
   ]
  },
  {
   "cell_type": "code",
   "execution_count": 29,
   "id": "a6a010aa",
   "metadata": {},
   "outputs": [],
   "source": [
    "from sklearn.neural_network import MLPClassifier"
   ]
  },
  {
   "cell_type": "code",
   "execution_count": 210,
   "id": "4f865c0e",
   "metadata": {},
   "outputs": [],
   "source": [
    "clf = MLPClassifier(solver='adam', alpha=0.05,hidden_layer_sizes=(10,), random_state=1,activation='relu',\n",
    "                    learning_rate='adaptive')"
   ]
  },
  {
   "cell_type": "code",
   "execution_count": 211,
   "id": "f87006d6",
   "metadata": {},
   "outputs": [
    {
     "data": {
      "text/plain": [
       "MLPClassifier(alpha=0.05, hidden_layer_sizes=(10,), learning_rate='adaptive',\n",
       "              random_state=1)"
      ]
     },
     "execution_count": 211,
     "metadata": {},
     "output_type": "execute_result"
    }
   ],
   "source": [
    "clf.fit(X_train_c,Y_train)"
   ]
  },
  {
   "cell_type": "code",
   "execution_count": 212,
   "id": "3b8c31fb",
   "metadata": {},
   "outputs": [],
   "source": [
    "y_pred=clf.predict_proba(X_train_c)[:,1]"
   ]
  },
  {
   "cell_type": "code",
   "execution_count": 213,
   "id": "01fad207",
   "metadata": {},
   "outputs": [
    {
     "name": "stdout",
     "output_type": "stream",
     "text": [
      "KS is 49.980000000000004\n"
     ]
    },
    {
     "data": {
      "text/html": [
       "<div>\n",
       "<style scoped>\n",
       "    .dataframe tbody tr th:only-of-type {\n",
       "        vertical-align: middle;\n",
       "    }\n",
       "\n",
       "    .dataframe tbody tr th {\n",
       "        vertical-align: top;\n",
       "    }\n",
       "\n",
       "    .dataframe thead th {\n",
       "        text-align: right;\n",
       "    }\n",
       "</style>\n",
       "<table border=\"1\" class=\"dataframe\">\n",
       "  <thead>\n",
       "    <tr style=\"text-align: right;\">\n",
       "      <th></th>\n",
       "      <th>Total_Count</th>\n",
       "      <th>min_prob</th>\n",
       "      <th>max_prob</th>\n",
       "      <th>mean_prob</th>\n",
       "      <th>Target</th>\n",
       "      <th>Target_rate</th>\n",
       "      <th>cum_Target</th>\n",
       "      <th>cum_nonTarget</th>\n",
       "      <th>cum_pct_Total</th>\n",
       "      <th>KS</th>\n",
       "    </tr>\n",
       "    <tr>\n",
       "      <th>Bin</th>\n",
       "      <th></th>\n",
       "      <th></th>\n",
       "      <th></th>\n",
       "      <th></th>\n",
       "      <th></th>\n",
       "      <th></th>\n",
       "      <th></th>\n",
       "      <th></th>\n",
       "      <th></th>\n",
       "      <th></th>\n",
       "    </tr>\n",
       "  </thead>\n",
       "  <tbody>\n",
       "    <tr>\n",
       "      <th>1</th>\n",
       "      <td>608</td>\n",
       "      <td>True</td>\n",
       "      <td>True</td>\n",
       "      <td>1.000000</td>\n",
       "      <td>450</td>\n",
       "      <td>74.043%</td>\n",
       "      <td>15.10%</td>\n",
       "      <td>5.08%</td>\n",
       "      <td>10.00%</td>\n",
       "      <td>10.02</td>\n",
       "    </tr>\n",
       "    <tr>\n",
       "      <th>2</th>\n",
       "      <td>608</td>\n",
       "      <td>True</td>\n",
       "      <td>True</td>\n",
       "      <td>1.000000</td>\n",
       "      <td>448</td>\n",
       "      <td>73.747%</td>\n",
       "      <td>30.14%</td>\n",
       "      <td>10.23%</td>\n",
       "      <td>20.00%</td>\n",
       "      <td>19.91</td>\n",
       "    </tr>\n",
       "    <tr>\n",
       "      <th>3</th>\n",
       "      <td>609</td>\n",
       "      <td>True</td>\n",
       "      <td>True</td>\n",
       "      <td>1.000000</td>\n",
       "      <td>449</td>\n",
       "      <td>73.735%</td>\n",
       "      <td>45.20%</td>\n",
       "      <td>15.38%</td>\n",
       "      <td>30.00%</td>\n",
       "      <td>29.82</td>\n",
       "    </tr>\n",
       "    <tr>\n",
       "      <th>4</th>\n",
       "      <td>608</td>\n",
       "      <td>True</td>\n",
       "      <td>True</td>\n",
       "      <td>1.000000</td>\n",
       "      <td>450</td>\n",
       "      <td>74.031%</td>\n",
       "      <td>60.30%</td>\n",
       "      <td>20.47%</td>\n",
       "      <td>40.00%</td>\n",
       "      <td>39.83</td>\n",
       "    </tr>\n",
       "    <tr>\n",
       "      <th>5</th>\n",
       "      <td>609</td>\n",
       "      <td>True</td>\n",
       "      <td>True</td>\n",
       "      <td>1.000000</td>\n",
       "      <td>452</td>\n",
       "      <td>74.331%</td>\n",
       "      <td>75.48%</td>\n",
       "      <td>25.51%</td>\n",
       "      <td>50.00%</td>\n",
       "      <td>49.98</td>\n",
       "    </tr>\n",
       "    <tr>\n",
       "      <th>6</th>\n",
       "      <td>609</td>\n",
       "      <td>False</td>\n",
       "      <td>False</td>\n",
       "      <td>0.000000</td>\n",
       "      <td>155</td>\n",
       "      <td>25.530%</td>\n",
       "      <td>80.70%</td>\n",
       "      <td>40.12%</td>\n",
       "      <td>60.00%</td>\n",
       "      <td>40.58</td>\n",
       "    </tr>\n",
       "    <tr>\n",
       "      <th>7</th>\n",
       "      <td>608</td>\n",
       "      <td>False</td>\n",
       "      <td>False</td>\n",
       "      <td>0.000000</td>\n",
       "      <td>133</td>\n",
       "      <td>21.926%</td>\n",
       "      <td>85.17%</td>\n",
       "      <td>55.41%</td>\n",
       "      <td>70.00%</td>\n",
       "      <td>29.76</td>\n",
       "    </tr>\n",
       "    <tr>\n",
       "      <th>8</th>\n",
       "      <td>609</td>\n",
       "      <td>False</td>\n",
       "      <td>False</td>\n",
       "      <td>0.000000</td>\n",
       "      <td>150</td>\n",
       "      <td>24.660%</td>\n",
       "      <td>90.21%</td>\n",
       "      <td>70.19%</td>\n",
       "      <td>80.00%</td>\n",
       "      <td>20.01</td>\n",
       "    </tr>\n",
       "    <tr>\n",
       "      <th>9</th>\n",
       "      <td>608</td>\n",
       "      <td>False</td>\n",
       "      <td>False</td>\n",
       "      <td>0.000000</td>\n",
       "      <td>146</td>\n",
       "      <td>24.068%</td>\n",
       "      <td>95.12%</td>\n",
       "      <td>85.07%</td>\n",
       "      <td>90.00%</td>\n",
       "      <td>10.05</td>\n",
       "    </tr>\n",
       "    <tr>\n",
       "      <th>10</th>\n",
       "      <td>609</td>\n",
       "      <td>False</td>\n",
       "      <td>True</td>\n",
       "      <td>0.027915</td>\n",
       "      <td>145</td>\n",
       "      <td>23.905%</td>\n",
       "      <td>100.00%</td>\n",
       "      <td>100.00%</td>\n",
       "      <td>100.00%</td>\n",
       "      <td>0.00</td>\n",
       "    </tr>\n",
       "  </tbody>\n",
       "</table>\n",
       "</div>"
      ],
      "text/plain": [
       "     Total_Count  min_prob  max_prob  mean_prob  Target Target_rate  \\\n",
       "Bin                                                                   \n",
       "1            608      True      True   1.000000     450     74.043%   \n",
       "2            608      True      True   1.000000     448     73.747%   \n",
       "3            609      True      True   1.000000     449     73.735%   \n",
       "4            608      True      True   1.000000     450     74.031%   \n",
       "5            609      True      True   1.000000     452     74.331%   \n",
       "6            609     False     False   0.000000     155     25.530%   \n",
       "7            608     False     False   0.000000     133     21.926%   \n",
       "8            609     False     False   0.000000     150     24.660%   \n",
       "9            608     False     False   0.000000     146     24.068%   \n",
       "10           609     False      True   0.027915     145     23.905%   \n",
       "\n",
       "    cum_Target cum_nonTarget cum_pct_Total     KS  \n",
       "Bin                                                \n",
       "1       15.10%         5.08%        10.00%  10.02  \n",
       "2       30.14%        10.23%        20.00%  19.91  \n",
       "3       45.20%        15.38%        30.00%  29.82  \n",
       "4       60.30%        20.47%        40.00%  39.83  \n",
       "5       75.48%        25.51%        50.00%  49.98  \n",
       "6       80.70%        40.12%        60.00%  40.58  \n",
       "7       85.17%        55.41%        70.00%  29.76  \n",
       "8       90.21%        70.19%        80.00%  20.01  \n",
       "9       95.12%        85.07%        90.00%  10.05  \n",
       "10     100.00%       100.00%       100.00%   0.00  "
      ]
     },
     "execution_count": 213,
     "metadata": {},
     "output_type": "execute_result"
    }
   ],
   "source": [
    "ks(y_pred,Y_train)"
   ]
  },
  {
   "cell_type": "code",
   "execution_count": 214,
   "id": "d4bd4c57",
   "metadata": {},
   "outputs": [
    {
     "name": "stdout",
     "output_type": "stream",
     "text": [
      "              precision    recall  f1-score   support\n",
      "\n",
      "       False       0.83      0.76      0.79      3026\n",
      "        True       0.78      0.85      0.81      3059\n",
      "\n",
      "    accuracy                           0.80      6085\n",
      "   macro avg       0.81      0.80      0.80      6085\n",
      "weighted avg       0.81      0.80      0.80      6085\n",
      "\n"
     ]
    }
   ],
   "source": [
    "from sklearn.metrics import classification_report\n",
    "print(classification_report(Y_train,clf.predict(X_train_c)))"
   ]
  },
  {
   "cell_type": "code",
   "execution_count": 221,
   "id": "590fbb7d",
   "metadata": {},
   "outputs": [
    {
     "name": "stdout",
     "output_type": "stream",
     "text": [
      "              precision    recall  f1-score   support\n",
      "\n",
      "       False       0.78      0.79      0.78      1289\n",
      "        True       0.79      0.78      0.78      1319\n",
      "\n",
      "    accuracy                           0.78      2608\n",
      "   macro avg       0.78      0.78      0.78      2608\n",
      "weighted avg       0.78      0.78      0.78      2608\n",
      "\n"
     ]
    }
   ],
   "source": [
    "print(classification_report(Y_test,clf.predict(X_test_c)))"
   ]
  },
  {
   "cell_type": "code",
   "execution_count": 216,
   "id": "797af85f",
   "metadata": {},
   "outputs": [
    {
     "name": "stdout",
     "output_type": "stream",
     "text": [
      "0.7887269938650306\n"
     ]
    }
   ],
   "source": [
    "print(accuracy_score(Y_test,clf.predict(X_test_c)))"
   ]
  },
  {
   "cell_type": "code",
   "execution_count": 217,
   "id": "35eaaf31",
   "metadata": {},
   "outputs": [],
   "source": [
    "from sklearn.ensemble import RandomForestClassifier"
   ]
  },
  {
   "cell_type": "code",
   "execution_count": 416,
   "id": "54a8e88a",
   "metadata": {},
   "outputs": [],
   "source": [
    "clf=RandomForestClassifier(criterion='gini',max_depth=10,n_estimators=220,max_leaf_nodes=200,random_state=1,\n",
    "                           min_samples_leaf=10,min_samples_split=15,max_features='log2')"
   ]
  },
  {
   "cell_type": "code",
   "execution_count": 417,
   "id": "98e88627",
   "metadata": {},
   "outputs": [
    {
     "data": {
      "text/plain": [
       "RandomForestClassifier(max_depth=10, max_features='log2', max_leaf_nodes=200,\n",
       "                       min_samples_leaf=10, min_samples_split=15,\n",
       "                       n_estimators=220, random_state=1)"
      ]
     },
     "execution_count": 417,
     "metadata": {},
     "output_type": "execute_result"
    }
   ],
   "source": [
    "clf.fit(X_train_c,Y_train)"
   ]
  },
  {
   "cell_type": "code",
   "execution_count": 418,
   "id": "24f2bc24",
   "metadata": {},
   "outputs": [
    {
     "name": "stdout",
     "output_type": "stream",
     "text": [
      "              precision    recall  f1-score   support\n",
      "\n",
      "       False       0.83      0.81      0.82      3026\n",
      "        True       0.82      0.83      0.82      3059\n",
      "\n",
      "    accuracy                           0.82      6085\n",
      "   macro avg       0.82      0.82      0.82      6085\n",
      "weighted avg       0.82      0.82      0.82      6085\n",
      "\n"
     ]
    }
   ],
   "source": [
    "from sklearn.metrics import classification_report\n",
    "print(classification_report(Y_train,clf.predict(X_train_c)))"
   ]
  },
  {
   "cell_type": "code",
   "execution_count": 419,
   "id": "1914be95",
   "metadata": {},
   "outputs": [
    {
     "name": "stdout",
     "output_type": "stream",
     "text": [
      "              precision    recall  f1-score   support\n",
      "\n",
      "       False       0.81      0.77      0.79      1289\n",
      "        True       0.79      0.82      0.80      1319\n",
      "\n",
      "    accuracy                           0.80      2608\n",
      "   macro avg       0.80      0.80      0.80      2608\n",
      "weighted avg       0.80      0.80      0.80      2608\n",
      "\n"
     ]
    }
   ],
   "source": [
    "print(classification_report(Y_test,clf.predict(X_test_c)))"
   ]
  },
  {
   "cell_type": "code",
   "execution_count": 420,
   "id": "d786c52c",
   "metadata": {},
   "outputs": [
    {
     "name": "stdout",
     "output_type": "stream",
     "text": [
      "0.7967791411042945\n"
     ]
    }
   ],
   "source": [
    "print(accuracy_score(Y_test,clf.predict(X_test_c)))"
   ]
  },
  {
   "cell_type": "code",
   "execution_count": 422,
   "id": "56f1d62e",
   "metadata": {},
   "outputs": [
    {
     "data": {
      "text/plain": [
       "count     8693.000000\n",
       "mean       448.434027\n",
       "std       1595.790627\n",
       "min          0.000000\n",
       "25%          0.000000\n",
       "50%          0.000000\n",
       "75%         61.000000\n",
       "max      29813.000000\n",
       "Name: FoodCourt, dtype: float64"
      ]
     },
     "execution_count": 422,
     "metadata": {},
     "output_type": "execute_result"
    }
   ],
   "source": [
    "df['FoodCourt'].describe()"
   ]
  },
  {
   "cell_type": "code",
   "execution_count": null,
   "id": "b68ddef2",
   "metadata": {},
   "outputs": [],
   "source": []
  }
 ],
 "metadata": {
  "kernelspec": {
   "display_name": "Python 3 (ipykernel)",
   "language": "python",
   "name": "python3"
  },
  "language_info": {
   "codemirror_mode": {
    "name": "ipython",
    "version": 3
   },
   "file_extension": ".py",
   "mimetype": "text/x-python",
   "name": "python",
   "nbconvert_exporter": "python",
   "pygments_lexer": "ipython3",
   "version": "3.9.13"
  }
 },
 "nbformat": 4,
 "nbformat_minor": 5
}
